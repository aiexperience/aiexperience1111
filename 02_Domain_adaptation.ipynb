{
 "cells": [
  {
   "cell_type": "markdown",
   "metadata": {
    "id": "zWy6CswzR4FS"
   },
   "source": [
    "<br><br>\n",
    "<font size='6'><b>Domain adaptation\n",
    "</b></font><br><br>\n",
    "\n",
    "<br>\n",
    "<div class=pull-right>\n",
    "By Prof. Hyunseok OH<br>\n",
    "https://sddo.gist.ac.kr/<br>\n",
    "SDDO Lab at GIST\n",
    "</div>"
   ]
  },
  {
   "cell_type": "markdown",
   "metadata": {
    "id": "Lfy9fgjFR4FU",
    "run_control": {
     "marked": false
    }
   },
   "source": [
    "**Table of Contents**\n",
    "\n",
    "* [1. Import library](#section1)  \n",
    "* [2. Data preparation](#section2)  \n",
    "    * [2.1 Immediate use of pre-trained model](#section2.1)  \n",
    "    * [2.2 Normalization Information](#section2.2)  \n",
    "* [3. Train baseline CNN](#section3)  \n",
    "    * [3.1 Baseline model, loss, optimizer, metrics](#section3.1)      \n",
    "    * [3.2 Train and Test function](#section3.2)   \n",
    "    * [3.3 Train on MNIST](#section3.3)           \n",
    "* [4. Domain adversarial neural network](#section4)    \n",
    "    * [4.1 Domain adversarial neural network model, loss, optimizer, metrics](#section4.1)  \n",
    "    * [4.2 Domain label generation](#section4.2)  \n",
    "    * [4.3 Train and Test function](#section4.3)  \n",
    "    * [4.4 Train  with MNIST and SVHN](#section4.4)  "
   ]
  },
  {
   "cell_type": "markdown",
   "metadata": {
    "id": "PnLd4SMXR4FV"
   },
   "source": [
    "<img src=\"https://github.com/MinseokOff/KSME_advanced/blob/main/Pre_trained/domain_adaptation.png?raw=true\" width=\"700\"/>  \n",
    "* 소스 도메인의 정보를 타겟 도메인에 적응시켜 예측 성능 향상\n",
    "* Feature space 상에서 도메인 간 데이터의 관계를 사용"
   ]
  },
  {
   "cell_type": "markdown",
   "metadata": {
    "id": "qPDZGLaPR4FW"
   },
   "source": [
    "### Domain adversarial neural net (DANN)\n",
    "<img src=\"https://github.com/MinseokOff/KSME_advanced/blob/main/Pre_trained/dann.png?raw=true\" width=\"700\"/>  \n",
    "* 타겟 도메인 label 없이 학습\n",
    "* End to end 학습(태스크 분류기, 도메인 분류기)\n",
    "* Backpropagation 변경 레이어 추가: GRL (Gradient reversal layer)"
   ]
  },
  {
   "cell_type": "markdown",
   "metadata": {
    "id": "tp7IDIE2R4FW"
   },
   "source": [
    "<a name='section1'></a> \n",
    "# 1. Import library"
   ]
  },
  {
   "cell_type": "code",
   "execution_count": 1,
   "metadata": {
    "ExecuteTime": {
     "end_time": "2022-01-18T03:21:10.888464Z",
     "start_time": "2022-01-18T03:21:09.755463Z"
    },
    "id": "o2MmZFz-H2Ll"
   },
   "outputs": [],
   "source": [
    "import tensorflow as tf\n",
    "from tensorflow.python.keras.layers import Dense, Flatten, Conv2D, MaxPool2D\n",
    "from tensorflow.python.keras import Model\n",
    "import numpy as np\n",
    "import matplotlib.pyplot as plt"
   ]
  },
  {
   "cell_type": "markdown",
   "metadata": {
    "id": "Ojf2VxXPH2Ly"
   },
   "source": [
    "<a name='section2'></a> \n",
    "# 2. Data preparation"
   ]
  },
  {
   "cell_type": "markdown",
   "metadata": {
    "id": "aK9vMdTPR4FY"
   },
   "source": [
    "<a name='section2.1'></a> \n",
    "## 2.1 MNIST and SVHN dataset"
   ]
  },
  {
   "cell_type": "code",
   "execution_count": 2,
   "metadata": {
    "colab": {
     "base_uri": "https://localhost:8080/"
    },
    "id": "lE_n50X2T-52",
    "outputId": "e20e56cf-391b-4efc-dda0-0e2b70fa9a53"
   },
   "outputs": [],
   "source": [
    "# !wget https://url.kr/6ri2mk -O 'data.zip'\n",
    "# !unzip data.zip -d './data'"
   ]
  },
  {
   "cell_type": "code",
   "execution_count": 3,
   "metadata": {
    "ExecuteTime": {
     "end_time": "2022-01-18T03:21:10.979977Z",
     "start_time": "2022-01-18T03:21:10.890277Z"
    },
    "id": "aUZ3H6QTR4FZ",
    "scrolled": true
   },
   "outputs": [
    {
     "name": "stderr",
     "output_type": "stream",
     "text": [
      "2022-07-03 21:58:50.033131: I tensorflow/core/platform/cpu_feature_guard.cc:151] This TensorFlow binary is optimized with oneAPI Deep Neural Network Library (oneDNN) to use the following CPU instructions in performance-critical operations:  AVX2 FMA\n",
      "To enable them in other operations, rebuild TensorFlow with the appropriate compiler flags.\n",
      "2022-07-03 21:58:58.746909: I tensorflow/core/common_runtime/gpu/gpu_device.cc:1525] Created device /job:localhost/replica:0/task:0/device:GPU:0 with 20235 MB memory:  -> device: 0, name: NVIDIA GeForce RTX 3090, pci bus id: 0000:09:00.0, compute capability: 8.6\n",
      "2022-07-03 21:58:58.749220: I tensorflow/core/common_runtime/gpu/gpu_device.cc:1525] Created device /job:localhost/replica:0/task:0/device:GPU:1 with 22300 MB memory:  -> device: 1, name: NVIDIA GeForce RTX 3090, pci bus id: 0000:0a:00.0, compute capability: 8.6\n",
      "2022-07-03 21:58:58.751532: I tensorflow/core/common_runtime/gpu/gpu_device.cc:1525] Created device /job:localhost/replica:0/task:0/device:GPU:2 with 22300 MB memory:  -> device: 2, name: NVIDIA GeForce RTX 3090, pci bus id: 0000:10:00.0, compute capability: 8.6\n",
      "2022-07-03 21:58:58.753806: I tensorflow/core/common_runtime/gpu/gpu_device.cc:1525] Created device /job:localhost/replica:0/task:0/device:GPU:3 with 22300 MB memory:  -> device: 3, name: NVIDIA GeForce RTX 3090, pci bus id: 0000:11:00.0, compute capability: 8.6\n",
      "2022-07-03 21:58:58.756169: I tensorflow/core/common_runtime/gpu/gpu_device.cc:1525] Created device /job:localhost/replica:0/task:0/device:GPU:4 with 22300 MB memory:  -> device: 4, name: NVIDIA GeForce RTX 3090, pci bus id: 0000:19:00.0, compute capability: 8.6\n",
      "2022-07-03 21:58:58.758432: I tensorflow/core/common_runtime/gpu/gpu_device.cc:1525] Created device /job:localhost/replica:0/task:0/device:GPU:5 with 22300 MB memory:  -> device: 5, name: NVIDIA GeForce RTX 3090, pci bus id: 0000:20:00.0, compute capability: 8.6\n",
      "2022-07-03 21:58:58.760825: I tensorflow/core/common_runtime/gpu/gpu_device.cc:1525] Created device /job:localhost/replica:0/task:0/device:GPU:6 with 22834 MB memory:  -> device: 6, name: NVIDIA TITAN RTX, pci bus id: 0000:0e:00.0, compute capability: 7.5\n",
      "2022-07-03 21:58:58.763103: I tensorflow/core/common_runtime/gpu/gpu_device.cc:1525] Created device /job:localhost/replica:0/task:0/device:GPU:7 with 22834 MB memory:  -> device: 7, name: NVIDIA TITAN RTX, pci bus id: 0000:0f:00.0, compute capability: 7.5\n",
      "2022-07-03 21:58:58.765340: I tensorflow/core/common_runtime/gpu/gpu_device.cc:1525] Created device /job:localhost/replica:0/task:0/device:GPU:8 with 22834 MB memory:  -> device: 8, name: NVIDIA TITAN RTX, pci bus id: 0000:1f:00.0, compute capability: 7.5\n",
      "2022-07-03 21:58:58.767138: I tensorflow/core/common_runtime/gpu/gpu_device.cc:1525] Created device /job:localhost/replica:0/task:0/device:GPU:9 with 8274 MB memory:  -> device: 9, name: NVIDIA GeForce RTX 2080 Ti, pci bus id: 0000:07:00.0, compute capability: 7.5\n",
      "2022-07-03 21:58:58.769006: I tensorflow/core/common_runtime/gpu/gpu_device.cc:1525] Created device /job:localhost/replica:0/task:0/device:GPU:10 with 9641 MB memory:  -> device: 10, name: NVIDIA GeForce RTX 2080 Ti, pci bus id: 0000:08:00.0, compute capability: 7.5\n",
      "2022-07-03 21:58:58.770822: I tensorflow/core/common_runtime/gpu/gpu_device.cc:1525] Created device /job:localhost/replica:0/task:0/device:GPU:11 with 9641 MB memory:  -> device: 11, name: NVIDIA GeForce RTX 2080 Ti, pci bus id: 0000:17:00.0, compute capability: 7.5\n"
     ]
    }
   ],
   "source": [
    "mnist_train = np.load('./data/train_mnist.npz')\n",
    "x_train, y_train  = mnist_train['x'], mnist_train['y']\n",
    "mnist_test = np.load('./data/test_mnist.npz')\n",
    "x_test, y_test  = mnist_test['x'], mnist_test['y']\n",
    "\n",
    "train_ds = tf.data.Dataset.from_tensor_slices((x_train, y_train)).shuffle(100).batch(32)\n",
    "test_ds = tf.data.Dataset.from_tensor_slices((x_test, y_test)).batch(32)"
   ]
  },
  {
   "cell_type": "code",
   "execution_count": 4,
   "metadata": {
    "ExecuteTime": {
     "end_time": "2022-01-18T03:21:10.988256Z",
     "start_time": "2022-01-18T03:21:10.981373Z"
    },
    "id": "b2WxxiXRR4FZ"
   },
   "outputs": [],
   "source": [
    "svhn_train = np.load('./data/train_svhn.npz')\n",
    "svhn_train_ls, svhn_train_y  = svhn_train['x'], svhn_train['y']\n",
    "svhn_test = np.load('./data/test_svhn.npz')\n",
    "svhn_test_ls, svhn_test_y  = svhn_test['x'], svhn_test['y']\n",
    "\n",
    "svhn_train_ds = tf.data.Dataset.from_tensor_slices((svhn_train_ls,svhn_train_y)).batch(32)\n",
    "svhn_test_ds = tf.data.Dataset.from_tensor_slices((svhn_test_ls,svhn_test_y)).batch(32)"
   ]
  },
  {
   "cell_type": "markdown",
   "metadata": {
    "id": "I0fcdiWvH2L_"
   },
   "source": [
    "<a name='section2.2'></a> \n",
    "## 2.2 Normalization Information"
   ]
  },
  {
   "cell_type": "code",
   "execution_count": 5,
   "metadata": {
    "ExecuteTime": {
     "end_time": "2022-01-18T03:21:11.006670Z",
     "start_time": "2022-01-18T03:21:10.989799Z"
    },
    "colab": {
     "base_uri": "https://localhost:8080/"
    },
    "id": "fYnyXmI7H2L_",
    "outputId": "c97d09ca-9787-4967-b329-de3a76741e0a"
   },
   "outputs": [
    {
     "data": {
      "text/plain": [
       "array([73.41482781, 73.1164477 , 75.94361926])"
      ]
     },
     "execution_count": 5,
     "metadata": {},
     "output_type": "execute_result"
    }
   ],
   "source": [
    "all_train_domain_images = np.vstack((x_train, svhn_train_ls))\n",
    "channel_mean = all_train_domain_images.mean((0,1,2))\n",
    "channel_mean"
   ]
  },
  {
   "cell_type": "markdown",
   "metadata": {
    "id": "FIXPXAekR4Fa"
   },
   "source": [
    "<a name='section3'></a> \n",
    "# 3. Train baseline CNN"
   ]
  },
  {
   "cell_type": "markdown",
   "metadata": {
    "id": "ICLSnEEOR4Fa"
   },
   "source": [
    "<img src=\"https://github.com/MinseokOff/KSME_advanced/blob/main/Pre_trained/cnn_arc.png?raw=true\" width=\"700\"/>"
   ]
  },
  {
   "cell_type": "markdown",
   "metadata": {
    "id": "pEhlU0bpR4Fa"
   },
   "source": [
    "<a name='section3.1'></a> \n",
    "## 3.1 Baseline model, loss, optimizer, metrics"
   ]
  },
  {
   "cell_type": "code",
   "execution_count": 6,
   "metadata": {
    "ExecuteTime": {
     "end_time": "2022-01-18T03:21:11.021825Z",
     "start_time": "2022-01-18T03:21:11.007590Z"
    },
    "id": "Mf0h57juH2MB"
   },
   "outputs": [],
   "source": [
    "class BaselineModel(Model):\n",
    "    def __init__(self):\n",
    "        super(BaselineModel, self).__init__()\n",
    "    \n",
    "        self.normalise = lambda x: (tf.cast(x, tf.float64) - channel_mean) / 255.0\n",
    "        self.conv1 = Conv2D(64, 5, activation='relu')\n",
    "        self.conv2 = Conv2D(128, 5, activation='relu')\n",
    "        self.maxpool = MaxPool2D(2)\n",
    "        self.flatten = Flatten()\n",
    "    \n",
    "        self.d1 = Dense(128, activation='relu')\n",
    "        self.d2 = Dense(10, activation='softmax')\n",
    "    \n",
    "\n",
    "    def call(self, x):\n",
    "        x = self.normalise(x)\n",
    "        x = self.conv1(x)\n",
    "        x = self.conv2(x)\n",
    "        x = self.maxpool(x)\n",
    "        x = self.flatten(x)\n",
    "        x = self.d1(x)\n",
    "\n",
    "        return self.d2(x)\n",
    "\n",
    "model = BaselineModel()"
   ]
  },
  {
   "cell_type": "code",
   "execution_count": 7,
   "metadata": {
    "ExecuteTime": {
     "end_time": "2022-01-18T03:21:11.025185Z",
     "start_time": "2022-01-18T03:21:11.022798Z"
    },
    "id": "dYlLL-ntH2MB"
   },
   "outputs": [],
   "source": [
    "loss_object = tf.keras.losses.SparseCategoricalCrossentropy()\n",
    "optimizer = tf.keras.optimizers.Adam(learning_rate=0.0001)"
   ]
  },
  {
   "cell_type": "code",
   "execution_count": 8,
   "metadata": {
    "ExecuteTime": {
     "end_time": "2022-01-18T03:21:11.050567Z",
     "start_time": "2022-01-18T03:21:11.026097Z"
    },
    "id": "669bZQ47H2MD"
   },
   "outputs": [],
   "source": [
    "train_loss = tf.keras.metrics.Mean(name='train_loss')\n",
    "train_accuracy = tf.keras.metrics.SparseCategoricalAccuracy(name='train_accuracy')\n",
    "\n",
    "test_loss = tf.keras.metrics.Mean(name='test_loss')\n",
    "test_accuracy = tf.keras.metrics.SparseCategoricalAccuracy(name='test_accuracy')\n",
    "\n",
    "svhn_test_loss = tf.keras.metrics.Mean(name='test_loss')\n",
    "svhn_test_accuracy = tf.keras.metrics.SparseCategoricalAccuracy(name='test_accuracy')"
   ]
  },
  {
   "cell_type": "markdown",
   "metadata": {
    "id": "jQCffO4sR4Fb"
   },
   "source": [
    "<a name='section3.2'></a> \n",
    "## 3.2 Train and Test function"
   ]
  },
  {
   "cell_type": "code",
   "execution_count": 9,
   "metadata": {
    "ExecuteTime": {
     "end_time": "2022-01-18T03:21:11.054651Z",
     "start_time": "2022-01-18T03:21:11.051768Z"
    },
    "id": "t6ymFiMdH2ME"
   },
   "outputs": [],
   "source": [
    "@tf.function\n",
    "def train_step(images, labels):\n",
    "    with tf.GradientTape() as tape:\n",
    "        predictions = model(images)\n",
    "        loss = loss_object(labels, predictions)\n",
    "    gradients = tape.gradient(loss, model.trainable_variables)\n",
    "    optimizer.apply_gradients(zip(gradients, model.trainable_variables))\n",
    "\n",
    "    train_loss(loss)\n",
    "    train_accuracy(labels, predictions)"
   ]
  },
  {
   "cell_type": "code",
   "execution_count": 10,
   "metadata": {
    "ExecuteTime": {
     "end_time": "2022-01-18T03:21:11.062237Z",
     "start_time": "2022-01-18T03:21:11.055715Z"
    },
    "id": "JFKHom14H2MF"
   },
   "outputs": [],
   "source": [
    "@tf.function\n",
    "def test_step(mnist_images, labels, svhn_images, labels2):\n",
    "    predictions = model(mnist_images)\n",
    "    t_loss = loss_object(labels, predictions)\n",
    "\n",
    "    test_loss(t_loss)\n",
    "    test_accuracy(labels, predictions)\n",
    "\n",
    "    predictions = model(svhn_images)\n",
    "    t_loss = loss_object(labels2, predictions)\n",
    "\n",
    "    svhn_test_loss(t_loss)\n",
    "    svhn_test_accuracy(labels2, predictions)"
   ]
  },
  {
   "cell_type": "code",
   "execution_count": 11,
   "metadata": {
    "ExecuteTime": {
     "end_time": "2022-01-18T03:21:11.067666Z",
     "start_time": "2022-01-18T03:21:11.063882Z"
    },
    "id": "-LZeYmDLH2MG"
   },
   "outputs": [],
   "source": [
    "def reset_metrics():\n",
    "    train_loss.reset_states()\n",
    "    train_accuracy.reset_states()\n",
    "    test_loss.reset_states()\n",
    "    test_accuracy.reset_states()\n",
    "    svhn_test_loss.reset_states()\n",
    "    svhn_test_accuracy.reset_states()"
   ]
  },
  {
   "cell_type": "markdown",
   "metadata": {
    "id": "-7ANgVhDH2MH"
   },
   "source": [
    "<a name='section3.3'></a> \n",
    "## 3.3 Train on MNIST"
   ]
  },
  {
   "cell_type": "code",
   "execution_count": 12,
   "metadata": {
    "ExecuteTime": {
     "end_time": "2022-01-18T03:21:16.493928Z",
     "start_time": "2022-01-18T03:21:11.068816Z"
    },
    "colab": {
     "base_uri": "https://localhost:8080/",
     "height": 632
    },
    "id": "9b6P89cfH2MI",
    "outputId": "4eed17b0-6820-4142-9284-1c1c88644f97",
    "scrolled": true
   },
   "outputs": [
    {
     "name": "stderr",
     "output_type": "stream",
     "text": [
      "2022-07-03 21:59:00.448630: I tensorflow/stream_executor/cuda/cuda_dnn.cc:366] Loaded cuDNN version 8101\n",
      "2022-07-03 21:59:02.002254: I tensorflow/stream_executor/cuda/cuda_blas.cc:1774] TensorFloat-32 will be used for the matrix multiplication. This will only be logged once.\n"
     ]
    },
    {
     "name": "stdout",
     "output_type": "stream",
     "text": [
      "Epoch 1, Train Accuracy: 34.0, Source Test Accuracy: 44.0, Target Test Accuracy: 16.0\n",
      "Epoch 2, Train Accuracy: 63.0, Source Test Accuracy: 62.0, Target Test Accuracy: 16.0\n",
      "Epoch 3, Train Accuracy: 74.5, Source Test Accuracy: 70.0, Target Test Accuracy: 12.0\n",
      "Epoch 4, Train Accuracy: 83.0, Source Test Accuracy: 72.0, Target Test Accuracy: 12.0\n",
      "Epoch 5, Train Accuracy: 87.5, Source Test Accuracy: 78.0, Target Test Accuracy: 16.0\n",
      "Epoch 6, Train Accuracy: 90.0, Source Test Accuracy: 82.0, Target Test Accuracy: 16.0\n",
      "Epoch 7, Train Accuracy: 92.5, Source Test Accuracy: 82.0, Target Test Accuracy: 16.0\n",
      "Epoch 8, Train Accuracy: 93.0, Source Test Accuracy: 82.0, Target Test Accuracy: 16.0\n",
      "Epoch 9, Train Accuracy: 95.0, Source Test Accuracy: 84.0, Target Test Accuracy: 16.0\n",
      "Epoch 10, Train Accuracy: 96.5, Source Test Accuracy: 86.0, Target Test Accuracy: 14.0\n",
      "Epoch 11, Train Accuracy: 97.5, Source Test Accuracy: 84.0, Target Test Accuracy: 12.0\n",
      "Epoch 12, Train Accuracy: 97.5, Source Test Accuracy: 86.0, Target Test Accuracy: 10.0\n",
      "Epoch 13, Train Accuracy: 98.5, Source Test Accuracy: 86.0, Target Test Accuracy: 10.0\n",
      "Epoch 14, Train Accuracy: 98.0, Source Test Accuracy: 84.0, Target Test Accuracy: 8.0\n",
      "Epoch 15, Train Accuracy: 100.0, Source Test Accuracy: 86.0, Target Test Accuracy: 8.0\n",
      "Epoch 16, Train Accuracy: 100.0, Source Test Accuracy: 88.0, Target Test Accuracy: 10.0\n",
      "Epoch 17, Train Accuracy: 99.5, Source Test Accuracy: 86.0, Target Test Accuracy: 8.0\n",
      "Epoch 18, Train Accuracy: 100.0, Source Test Accuracy: 86.0, Target Test Accuracy: 10.0\n",
      "Epoch 19, Train Accuracy: 100.0, Source Test Accuracy: 86.0, Target Test Accuracy: 8.0\n",
      "Epoch 20, Train Accuracy: 100.0, Source Test Accuracy: 86.0, Target Test Accuracy: 10.0\n"
     ]
    },
    {
     "data": {
      "image/png": "[encoded data removed]",
      "text/plain": [
       "<Figure size 432x288 with 1 Axes>"
      ]
     },
     "metadata": {
      "needs_background": "light"
     },
     "output_type": "display_data"
    }
   ],
   "source": [
    "EPOCHS = 20\n",
    "\n",
    "train_acc = []\n",
    "test_acc = []\n",
    "svhn_test_acc = []\n",
    "for epoch in range(EPOCHS):\n",
    "    reset_metrics()\n",
    "    for images, labels in train_ds:\n",
    "        train_step(images, labels)\n",
    "\n",
    "    for test_data, svhn_test_data in zip(test_ds,svhn_test_ds):\n",
    "        test_step(test_data[0], test_data[1], svhn_test_data[0], svhn_test_data[1])\n",
    "\n",
    "    template = 'Epoch {}, Train Accuracy: {}, Source Test Accuracy: {}, Target Test Accuracy: {}'\n",
    "    print (template.format(epoch+1,\n",
    "                           train_accuracy.result()*100,\n",
    "                           test_accuracy.result()*100,\n",
    "                           svhn_test_accuracy.result()*100,))\n",
    "    \n",
    "    train_acc.append(train_accuracy.result()*100)\n",
    "    test_acc.append(test_accuracy.result()*100)\n",
    "    svhn_test_acc.append(svhn_test_accuracy.result()*100)\n",
    "    \n",
    "plt.plot(list(range(EPOCHS)), train_acc, label = \"Train MNIST\")\n",
    "plt.plot(list(range(EPOCHS)), test_acc, label = \"Test MNIST\")\n",
    "plt.plot(list(range(EPOCHS)), svhn_test_acc, label = \"Test SVHN\")\n",
    "plt.legend(loc='upper left', bbox_to_anchor=(1.0, 1.0),fontsize = 10,frameon=False)\n",
    "plt.xlabel(\"Epoch\")\n",
    "plt.ylabel(\"Accuracy (%)\")\n",
    "plt.show()    "
   ]
  },
  {
   "cell_type": "code",
   "execution_count": 13,
   "metadata": {
    "ExecuteTime": {
     "end_time": "2022-01-18T03:21:16.763514Z",
     "start_time": "2022-01-18T03:21:16.495257Z"
    },
    "colab": {
     "base_uri": "https://localhost:8080/",
     "height": 586
    },
    "id": "mf4M0ZSkR4Fd",
    "outputId": "1e00cfe9-d6e8-49c9-fa8d-ee978fe394b5"
   },
   "outputs": [
    {
     "name": "stdout",
     "output_type": "stream",
     "text": [
      "예측 :  0\n",
      "정답 :  0\n"
     ]
    },
    {
     "data": {
      "image/png": "[encoded data removed]",
      "text/plain": [
       "<Figure size 432x288 with 1 Axes>"
      ]
     },
     "metadata": {
      "needs_background": "light"
     },
     "output_type": "display_data"
    },
    {
     "name": "stdout",
     "output_type": "stream",
     "text": [
      "예측 :  2\n",
      "정답 :  2\n"
     ]
    },
    {
     "data": {
      "image/png": "[encoded data removed]",
      "text/plain": [
       "<Figure size 432x288 with 1 Axes>"
      ]
     },
     "metadata": {
      "needs_background": "light"
     },
     "output_type": "display_data"
    }
   ],
   "source": [
    "for images, labels in test_ds:\n",
    "    predictions = model(images)\n",
    "    print(\"예측 : \", np.argmax(predictions[3]))\n",
    "    print(\"정답 : \", labels[3].numpy())\n",
    "    plt.imshow(images[3])\n",
    "    plt.show()"
   ]
  },
  {
   "cell_type": "code",
   "execution_count": 14,
   "metadata": {
    "ExecuteTime": {
     "end_time": "2022-01-18T03:21:16.939086Z",
     "start_time": "2022-01-18T03:21:16.764580Z"
    },
    "colab": {
     "base_uri": "https://localhost:8080/",
     "height": 586
    },
    "id": "pmKGSblQR4Fd",
    "outputId": "2aebff6c-668c-4fa3-9957-a49d50782af9"
   },
   "outputs": [
    {
     "name": "stdout",
     "output_type": "stream",
     "text": [
      "예측 :  2\n",
      "정답 :  0\n"
     ]
    },
    {
     "data": {
      "image/png": "[encoded data removed]",
      "text/plain": [
       "<Figure size 432x288 with 1 Axes>"
      ]
     },
     "metadata": {
      "needs_background": "light"
     },
     "output_type": "display_data"
    },
    {
     "name": "stdout",
     "output_type": "stream",
     "text": [
      "예측 :  0\n",
      "정답 :  1\n"
     ]
    },
    {
     "data": {
      "image/png": "[encoded data removed]",
      "text/plain": [
       "<Figure size 432x288 with 1 Axes>"
      ]
     },
     "metadata": {
      "needs_background": "light"
     },
     "output_type": "display_data"
    }
   ],
   "source": [
    "for images, labels in svhn_test_ds:\n",
    "    predictions = model(images)\n",
    "    print(\"예측 : \", np.argmax(predictions[3]))\n",
    "    print(\"정답 : \", labels[3].numpy())\n",
    "    plt.imshow(images[3])\n",
    "    plt.show()"
   ]
  },
  {
   "cell_type": "markdown",
   "metadata": {
    "id": "mhE3yGd2H2MJ"
   },
   "source": [
    "<a name='section4'></a> \n",
    "# 4. Domain adversarial neural network"
   ]
  },
  {
   "cell_type": "markdown",
   "metadata": {
    "id": "Mh3wdWGIR4Fd"
   },
   "source": [
    "<img src=\"https://github.com/MinseokOff/KSME_advanced/blob/main/Pre_trained/dann_arc.png?raw=true\" width=\"700\"/>"
   ]
  },
  {
   "cell_type": "markdown",
   "metadata": {
    "id": "jBaDXKjkR4Fd"
   },
   "source": [
    "<a name='section4.1'></a> \n",
    "## 4.1 Domain adversarial neural network model, loss, optimizer, metrics\n",
    "- feature generator\n",
    "- label predictor \n",
    "- domain predictor "
   ]
  },
  {
   "cell_type": "code",
   "execution_count": 15,
   "metadata": {
    "ExecuteTime": {
     "end_time": "2022-01-18T03:21:16.948767Z",
     "start_time": "2022-01-18T03:21:16.940325Z"
    },
    "id": "4Vb4mGKwH2MJ"
   },
   "outputs": [],
   "source": [
    "class FeatureGenerator(Model):\n",
    "    def __init__(self):\n",
    "        super(FeatureGenerator, self).__init__() \n",
    "        self.normalise = lambda x: (tf.cast(x, tf.float64) - channel_mean) / 255.0\n",
    "        self.conv1 = Conv2D(64, 5, activation='relu')\n",
    "        self.conv2 = Conv2D(128, 5, activation='relu')\n",
    "        self.maxpool = MaxPool2D(2)\n",
    "        self.flatten = Flatten()\n",
    "    \n",
    "    def call(self, x):\n",
    "        x = self.normalise(x)\n",
    "        x = self.conv1(x)\n",
    "        x = self.conv2(x)\n",
    "        x = self.maxpool(x)\n",
    "\n",
    "        return self.flatten(x)\n",
    "\n",
    "feature_generator = FeatureGenerator()"
   ]
  },
  {
   "cell_type": "code",
   "execution_count": 16,
   "metadata": {
    "ExecuteTime": {
     "end_time": "2022-01-18T03:21:16.962461Z",
     "start_time": "2022-01-18T03:21:16.950591Z"
    },
    "id": "4OqlhZtxH2MK"
   },
   "outputs": [],
   "source": [
    "class LabelPredictor(Model):\n",
    "    def __init__(self):\n",
    "        super(LabelPredictor, self).__init__() \n",
    "        self.d1 = Dense(128, activation='relu')\n",
    "        self.d2 = Dense(10, activation='softmax')\n",
    "\n",
    "    def call(self, feats):  \n",
    "        feats = self.d1(feats)\n",
    "        return self.d2(feats)\n",
    "\n",
    "label_predictor = LabelPredictor()"
   ]
  },
  {
   "cell_type": "code",
   "execution_count": 17,
   "metadata": {
    "ExecuteTime": {
     "end_time": "2022-01-18T03:21:16.970468Z",
     "start_time": "2022-01-18T03:21:16.963768Z"
    },
    "id": "TTC5gqXkH2ML"
   },
   "outputs": [],
   "source": [
    "class DomainPredictor(Model):\n",
    "    def __init__(self):\n",
    "        super(DomainPredictor, self).__init__()   \n",
    "        self.d3 = Dense(64, activation='relu')\n",
    "        self.d4 = Dense(2, activation='softmax')\n",
    "\n",
    "    def call(self, feats):\n",
    "        feats = self.d3(feats)\n",
    "        return self.d4(feats)\n",
    "\n",
    "domain_predictor = DomainPredictor()"
   ]
  },
  {
   "cell_type": "code",
   "execution_count": 18,
   "metadata": {
    "ExecuteTime": {
     "end_time": "2022-01-18T03:21:16.975358Z",
     "start_time": "2022-01-18T03:21:16.972145Z"
    },
    "id": "GrE7rbOaR4Fe"
   },
   "outputs": [],
   "source": [
    "loss_object = tf.keras.losses.SparseCategoricalCrossentropy()\n",
    "d_optimizer = tf.keras.optimizers.Adam(learning_rate=0.01)\n",
    "f_optimizer = tf.keras.optimizers.Adam(learning_rate=0.0001)"
   ]
  },
  {
   "cell_type": "code",
   "execution_count": 19,
   "metadata": {
    "ExecuteTime": {
     "end_time": "2022-01-18T03:21:17.005343Z",
     "start_time": "2022-01-18T03:21:16.976661Z"
    },
    "id": "FHq7silgR4Fe"
   },
   "outputs": [],
   "source": [
    "train_loss = tf.keras.metrics.Mean(name='train_loss')\n",
    "train_accuracy = tf.keras.metrics.SparseCategoricalAccuracy(name='train_accuracy')\n",
    "\n",
    "test_loss = tf.keras.metrics.Mean(name='test_loss')\n",
    "test_accuracy = tf.keras.metrics.SparseCategoricalAccuracy(name='test_accuracy')\n",
    "\n",
    "svhn_test_loss = tf.keras.metrics.Mean(name='m_test_loss')\n",
    "svhn_test_accuracy = tf.keras.metrics.SparseCategoricalAccuracy(name='m_test_accuracy')"
   ]
  },
  {
   "cell_type": "code",
   "execution_count": 20,
   "metadata": {
    "ExecuteTime": {
     "end_time": "2022-01-18T03:21:17.015667Z",
     "start_time": "2022-01-18T03:21:17.006704Z"
    },
    "id": "97xK2tm2R4Ff"
   },
   "outputs": [],
   "source": [
    "conf_train_loss = tf.keras.metrics.Mean(name='c_train_loss')\n",
    "conf_train_accuracy = tf.keras.metrics.SparseCategoricalAccuracy(name='c_train_accuracy')"
   ]
  },
  {
   "cell_type": "markdown",
   "metadata": {
    "id": "1_CGauj8R4Ff"
   },
   "source": [
    "<a name='section4.2'></a> \n",
    "## 4.2 Domain label generation"
   ]
  },
  {
   "cell_type": "code",
   "execution_count": 21,
   "metadata": {
    "ExecuteTime": {
     "end_time": "2022-01-18T03:21:17.022036Z",
     "start_time": "2022-01-18T03:21:17.016733Z"
    },
    "id": "jHeWfO05H2MM"
   },
   "outputs": [],
   "source": [
    "x_train_domain_labels = np.ones([len(x_train)])\n",
    "svhn_train_domain_labels = np.zeros([len(svhn_train_ls)])\n",
    "all_train_domain_labels = np.hstack((x_train_domain_labels, svhn_train_domain_labels))\n",
    "\n",
    "domain_train_ds = tf.data.Dataset.from_tensor_slices(\n",
    "    (all_train_domain_images, tf.cast(all_train_domain_labels, tf.int8))).shuffle(60000).batch(32)"
   ]
  },
  {
   "cell_type": "markdown",
   "metadata": {
    "id": "AYLRoQ2FR4Ff"
   },
   "source": [
    "<a name='section4.3'></a> \n",
    "## 4.3 Train and Test function"
   ]
  },
  {
   "cell_type": "code",
   "execution_count": 22,
   "metadata": {
    "ExecuteTime": {
     "end_time": "2022-01-18T03:21:17.037344Z",
     "start_time": "2022-01-18T03:21:17.023121Z"
    },
    "id": "_jfXBTueH2MS",
    "run_control": {
     "marked": false
    }
   },
   "outputs": [],
   "source": [
    "@tf.function\n",
    "def train_step(images, labels, images2, domains, alpha):\n",
    "    \n",
    "    ## Update the generator and the classifier\n",
    "    with tf.GradientTape(persistent=True) as tape:\n",
    "        features = feature_generator(images)\n",
    "        l_predictions = label_predictor(features)\n",
    "        features = feature_generator(images2)\n",
    "        d_predictions = domain_predictor(features)\n",
    "        label_loss = loss_object(labels, l_predictions)\n",
    "        domain_loss = loss_object(domains, d_predictions)\n",
    "    \n",
    "    f_gradients_on_label_loss = tape.gradient(label_loss, feature_generator.trainable_variables)\n",
    "    f_gradients_on_domain_loss = tape.gradient(domain_loss, feature_generator.trainable_variables)    \n",
    "    f_gradients = [f_gradients_on_label_loss[i] - alpha*f_gradients_on_domain_loss[i] for i in range(len(f_gradients_on_domain_loss))]\n",
    "\n",
    "    l_gradients = tape.gradient(label_loss, label_predictor.trainable_variables)\n",
    "    f_optimizer.apply_gradients(zip(f_gradients+l_gradients, \n",
    "                                  feature_generator.trainable_variables+label_predictor.trainable_variables)) \n",
    "    \n",
    "    ## Update the discriminator: Comment this bit to complete all updates in one step. Asynchronous updating \n",
    "    with tf.GradientTape() as tape:\n",
    "        features = feature_generator(images2)\n",
    "        d_predictions = domain_predictor(features)\n",
    "        domain_loss = loss_object(domains, d_predictions)\n",
    "   \n",
    "    d_gradients = tape.gradient(domain_loss, domain_predictor.trainable_variables)  \n",
    "    d_gradients = [alpha*i for i in d_gradients]\n",
    "    d_optimizer.apply_gradients(zip(d_gradients, domain_predictor.trainable_variables))\n",
    "  \n",
    "    train_loss(label_loss)\n",
    "    train_accuracy(labels, l_predictions)\n",
    "    conf_train_loss(domain_loss)\n",
    "    conf_train_accuracy(domains, d_predictions)"
   ]
  },
  {
   "cell_type": "code",
   "execution_count": 23,
   "metadata": {
    "ExecuteTime": {
     "end_time": "2022-01-18T03:21:17.045149Z",
     "start_time": "2022-01-18T03:21:17.038782Z"
    },
    "id": "Q-8GONwqH2MT"
   },
   "outputs": [],
   "source": [
    "@tf.function\n",
    "def test_step(mnist_images, labels, svhn_images, labels2):\n",
    "    features = feature_generator(mnist_images)\n",
    "    predictions = label_predictor(features)\n",
    "    t_loss = loss_object(labels, predictions)\n",
    "\n",
    "    test_loss(t_loss)\n",
    "    test_accuracy(labels, predictions)\n",
    "\n",
    "    features = feature_generator(svhn_images)\n",
    "    predictions = label_predictor(features)\n",
    "    t_loss = loss_object(labels2, predictions)\n",
    "\n",
    "    svhn_test_loss(t_loss)\n",
    "    svhn_test_accuracy(labels2, predictions)"
   ]
  },
  {
   "cell_type": "code",
   "execution_count": 24,
   "metadata": {
    "ExecuteTime": {
     "end_time": "2022-01-18T03:21:17.051266Z",
     "start_time": "2022-01-18T03:21:17.046927Z"
    },
    "id": "c1YDFxqdH2MU"
   },
   "outputs": [],
   "source": [
    "def reset_metrics():\n",
    "    train_loss.reset_states()\n",
    "    train_accuracy.reset_states()\n",
    "    test_loss.reset_states()\n",
    "    test_accuracy.reset_states()\n",
    "    svhn_test_loss.reset_states()\n",
    "    svhn_test_accuracy.reset_states()"
   ]
  },
  {
   "cell_type": "markdown",
   "metadata": {
    "id": "MlDxRyDYR4Fh"
   },
   "source": [
    "<a name='section4.4'></a> \n",
    "## 4.4 Train  with MNIST and SVHN"
   ]
  },
  {
   "cell_type": "code",
   "execution_count": 25,
   "metadata": {
    "ExecuteTime": {
     "end_time": "2022-01-18T03:21:32.893794Z",
     "start_time": "2022-01-18T03:21:17.052325Z"
    },
    "colab": {
     "base_uri": "https://localhost:8080/",
     "height": 1000
    },
    "id": "TAEV-vrfH2MV",
    "outputId": "e62df690-6728-4ff0-9226-a90d2ab0246c",
    "scrolled": true
   },
   "outputs": [
    {
     "name": "stdout",
     "output_type": "stream",
     "text": [
      "Epoch 1, Train Accuracy: 24.0, Domain Accuracy: 75.44642639160156, Source Test Accuracy: 56.0, Target Test Accuracy: 8.0\n",
      "Epoch 2, Train Accuracy: 60.5, Domain Accuracy: 82.36607360839844, Source Test Accuracy: 60.000003814697266, Target Test Accuracy: 12.0\n",
      "Epoch 3, Train Accuracy: 70.5, Domain Accuracy: 84.22618865966797, Source Test Accuracy: 58.0, Target Test Accuracy: 16.0\n",
      "Epoch 4, Train Accuracy: 78.5, Domain Accuracy: 85.82588958740234, Source Test Accuracy: 62.0, Target Test Accuracy: 12.0\n",
      "Epoch 5, Train Accuracy: 71.5, Domain Accuracy: 87.3214340209961, Source Test Accuracy: 60.000003814697266, Target Test Accuracy: 12.0\n",
      "Epoch 6, Train Accuracy: 81.0, Domain Accuracy: 88.98809814453125, Source Test Accuracy: 68.0, Target Test Accuracy: 16.0\n",
      "Epoch 7, Train Accuracy: 83.0, Domain Accuracy: 89.92346954345703, Source Test Accuracy: 74.0, Target Test Accuracy: 14.0\n",
      "Epoch 8, Train Accuracy: 81.5, Domain Accuracy: 90.84821319580078, Source Test Accuracy: 66.0, Target Test Accuracy: 16.0\n",
      "Epoch 9, Train Accuracy: 87.0, Domain Accuracy: 91.66667175292969, Source Test Accuracy: 68.0, Target Test Accuracy: 16.0\n",
      "Epoch 10, Train Accuracy: 86.5, Domain Accuracy: 92.27678680419922, Source Test Accuracy: 74.0, Target Test Accuracy: 18.0\n",
      "Epoch 11, Train Accuracy: 88.5, Domain Accuracy: 91.842529296875, Source Test Accuracy: 76.0, Target Test Accuracy: 14.0\n",
      "Epoch 12, Train Accuracy: 88.0, Domain Accuracy: 90.10417175292969, Source Test Accuracy: 74.0, Target Test Accuracy: 20.0\n",
      "Epoch 13, Train Accuracy: 86.5, Domain Accuracy: 87.56867980957031, Source Test Accuracy: 64.0, Target Test Accuracy: 20.0\n",
      "Epoch 14, Train Accuracy: 75.5, Domain Accuracy: 84.75765228271484, Source Test Accuracy: 52.0, Target Test Accuracy: 10.0\n",
      "Epoch 15, Train Accuracy: 38.5, Domain Accuracy: 83.27381134033203, Source Test Accuracy: 30.000001907348633, Target Test Accuracy: 26.0\n",
      "Epoch 16, Train Accuracy: 23.5, Domain Accuracy: 82.95201110839844, Source Test Accuracy: 28.0, Target Test Accuracy: 28.0\n",
      "Epoch 17, Train Accuracy: 31.0, Domain Accuracy: 83.2983169555664, Source Test Accuracy: 24.0, Target Test Accuracy: 22.0\n",
      "Epoch 18, Train Accuracy: 38.5, Domain Accuracy: 83.58134460449219, Source Test Accuracy: 40.0, Target Test Accuracy: 18.0\n",
      "Epoch 19, Train Accuracy: 49.5, Domain Accuracy: 83.88158416748047, Source Test Accuracy: 60.000003814697266, Target Test Accuracy: 20.0\n",
      "Epoch 20, Train Accuracy: 54.5, Domain Accuracy: 84.21875, Source Test Accuracy: 58.0, Target Test Accuracy: 12.0\n",
      "Epoch 21, Train Accuracy: 79.5, Domain Accuracy: 84.65135955810547, Source Test Accuracy: 62.0, Target Test Accuracy: 18.0\n",
      "Epoch 22, Train Accuracy: 78.5, Domain Accuracy: 84.45616912841797, Source Test Accuracy: 70.0, Target Test Accuracy: 24.0\n",
      "Epoch 23, Train Accuracy: 85.0, Domain Accuracy: 84.58850860595703, Source Test Accuracy: 70.0, Target Test Accuracy: 20.0\n",
      "Epoch 24, Train Accuracy: 85.5, Domain Accuracy: 84.765625, Source Test Accuracy: 74.0, Target Test Accuracy: 16.0\n",
      "Epoch 25, Train Accuracy: 88.0, Domain Accuracy: 85.19642639160156, Source Test Accuracy: 70.0, Target Test Accuracy: 18.0\n",
      "Epoch 26, Train Accuracy: 89.0, Domain Accuracy: 85.61126708984375, Source Test Accuracy: 66.0, Target Test Accuracy: 14.0\n",
      "Epoch 27, Train Accuracy: 89.5, Domain Accuracy: 85.99536895751953, Source Test Accuracy: 70.0, Target Test Accuracy: 24.0\n",
      "Epoch 28, Train Accuracy: 90.5, Domain Accuracy: 86.38392639160156, Source Test Accuracy: 80.0, Target Test Accuracy: 22.0\n",
      "Epoch 29, Train Accuracy: 88.0, Domain Accuracy: 86.73029327392578, Source Test Accuracy: 76.0, Target Test Accuracy: 18.0\n",
      "Epoch 30, Train Accuracy: 89.0, Domain Accuracy: 87.11309814453125, Source Test Accuracy: 82.0, Target Test Accuracy: 20.0\n",
      "Epoch 31, Train Accuracy: 92.0, Domain Accuracy: 87.45680236816406, Source Test Accuracy: 78.0, Target Test Accuracy: 18.0\n",
      "Epoch 32, Train Accuracy: 93.0, Domain Accuracy: 87.77901458740234, Source Test Accuracy: 82.0, Target Test Accuracy: 16.0\n",
      "Epoch 33, Train Accuracy: 92.0, Domain Accuracy: 88.06818389892578, Source Test Accuracy: 80.0, Target Test Accuracy: 18.0\n",
      "Epoch 34, Train Accuracy: 91.5, Domain Accuracy: 88.3666000366211, Source Test Accuracy: 80.0, Target Test Accuracy: 18.0\n",
      "Epoch 35, Train Accuracy: 92.0, Domain Accuracy: 88.62245178222656, Source Test Accuracy: 82.0, Target Test Accuracy: 18.0\n",
      "Epoch 36, Train Accuracy: 94.5, Domain Accuracy: 88.8888931274414, Source Test Accuracy: 80.0, Target Test Accuracy: 18.0\n",
      "Epoch 37, Train Accuracy: 91.5, Domain Accuracy: 89.14093017578125, Source Test Accuracy: 82.0, Target Test Accuracy: 20.0\n",
      "Epoch 38, Train Accuracy: 93.5, Domain Accuracy: 89.4149398803711, Source Test Accuracy: 86.0, Target Test Accuracy: 18.0\n",
      "Epoch 39, Train Accuracy: 93.5, Domain Accuracy: 89.66346740722656, Source Test Accuracy: 84.0, Target Test Accuracy: 16.0\n",
      "Epoch 40, Train Accuracy: 93.0, Domain Accuracy: 89.921875, Source Test Accuracy: 76.0, Target Test Accuracy: 16.0\n",
      "Epoch 41, Train Accuracy: 91.0, Domain Accuracy: 90.15679168701172, Source Test Accuracy: 80.0, Target Test Accuracy: 18.0\n",
      "Epoch 42, Train Accuracy: 93.0, Domain Accuracy: 90.38052368164062, Source Test Accuracy: 82.0, Target Test Accuracy: 18.0\n",
      "Epoch 43, Train Accuracy: 93.0, Domain Accuracy: 90.59385681152344, Source Test Accuracy: 90.0, Target Test Accuracy: 20.0\n",
      "Epoch 44, Train Accuracy: 94.0, Domain Accuracy: 90.76704406738281, Source Test Accuracy: 84.0, Target Test Accuracy: 14.0\n",
      "Epoch 45, Train Accuracy: 95.0, Domain Accuracy: 90.95237731933594, Source Test Accuracy: 82.0, Target Test Accuracy: 18.0\n",
      "Epoch 46, Train Accuracy: 94.5, Domain Accuracy: 91.1296615600586, Source Test Accuracy: 88.0, Target Test Accuracy: 20.0\n",
      "Epoch 47, Train Accuracy: 94.0, Domain Accuracy: 91.23290252685547, Source Test Accuracy: 90.0, Target Test Accuracy: 18.0\n",
      "Epoch 48, Train Accuracy: 94.5, Domain Accuracy: 91.3690414428711, Source Test Accuracy: 88.0, Target Test Accuracy: 18.0\n",
      "Epoch 49, Train Accuracy: 95.5, Domain Accuracy: 91.52696990966797, Source Test Accuracy: 88.0, Target Test Accuracy: 16.0\n",
      "Epoch 50, Train Accuracy: 96.5, Domain Accuracy: 91.66071319580078, Source Test Accuracy: 88.0, Target Test Accuracy: 20.0\n",
      "Epoch 51, Train Accuracy: 95.5, Domain Accuracy: 91.75420379638672, Source Test Accuracy: 82.0, Target Test Accuracy: 16.0\n",
      "Epoch 52, Train Accuracy: 93.5, Domain Accuracy: 91.88702392578125, Source Test Accuracy: 88.0, Target Test Accuracy: 20.0\n",
      "Epoch 53, Train Accuracy: 94.5, Domain Accuracy: 92.01482391357422, Source Test Accuracy: 92.0, Target Test Accuracy: 16.0\n",
      "Epoch 54, Train Accuracy: 96.0, Domain Accuracy: 92.14616394042969, Source Test Accuracy: 92.0, Target Test Accuracy: 18.0\n",
      "Epoch 55, Train Accuracy: 98.0, Domain Accuracy: 92.24837493896484, Source Test Accuracy: 90.0, Target Test Accuracy: 18.0\n",
      "Epoch 56, Train Accuracy: 95.5, Domain Accuracy: 92.35491180419922, Source Test Accuracy: 90.0, Target Test Accuracy: 18.0\n",
      "Epoch 57, Train Accuracy: 96.5, Domain Accuracy: 92.47337341308594, Source Test Accuracy: 92.0, Target Test Accuracy: 18.0\n",
      "Epoch 58, Train Accuracy: 97.0, Domain Accuracy: 92.58004760742188, Source Test Accuracy: 88.0, Target Test Accuracy: 18.0\n",
      "Epoch 59, Train Accuracy: 95.5, Domain Accuracy: 92.705810546875, Source Test Accuracy: 90.0, Target Test Accuracy: 16.0\n",
      "Epoch 60, Train Accuracy: 97.0, Domain Accuracy: 92.82737731933594, Source Test Accuracy: 88.0, Target Test Accuracy: 18.0\n",
      "Epoch 61, Train Accuracy: 97.5, Domain Accuracy: 92.9449691772461, Source Test Accuracy: 88.0, Target Test Accuracy: 16.0\n",
      "Epoch 62, Train Accuracy: 97.0, Domain Accuracy: 93.05875396728516, Source Test Accuracy: 88.0, Target Test Accuracy: 20.0\n",
      "Epoch 63, Train Accuracy: 97.5, Domain Accuracy: 93.16893005371094, Source Test Accuracy: 90.0, Target Test Accuracy: 16.0\n",
      "Epoch 64, Train Accuracy: 97.0, Domain Accuracy: 93.26869201660156, Source Test Accuracy: 88.0, Target Test Accuracy: 18.0\n",
      "Epoch 65, Train Accuracy: 98.5, Domain Accuracy: 93.37225341796875, Source Test Accuracy: 86.0, Target Test Accuracy: 20.0\n",
      "Epoch 66, Train Accuracy: 97.5, Domain Accuracy: 93.46590423583984, Source Test Accuracy: 92.0, Target Test Accuracy: 14.0\n",
      "Epoch 67, Train Accuracy: 97.5, Domain Accuracy: 93.55677032470703, Source Test Accuracy: 90.0, Target Test Accuracy: 18.0\n"
     ]
    },
    {
     "name": "stdout",
     "output_type": "stream",
     "text": [
      "Epoch 68, Train Accuracy: 98.5, Domain Accuracy: 93.65151977539062, Source Test Accuracy: 88.0, Target Test Accuracy: 16.0\n",
      "Epoch 69, Train Accuracy: 98.0, Domain Accuracy: 93.7435302734375, Source Test Accuracy: 90.0, Target Test Accuracy: 14.0\n",
      "Epoch 70, Train Accuracy: 98.5, Domain Accuracy: 93.82653045654297, Source Test Accuracy: 86.0, Target Test Accuracy: 18.0\n",
      "Epoch 71, Train Accuracy: 99.0, Domain Accuracy: 93.91348266601562, Source Test Accuracy: 90.0, Target Test Accuracy: 16.0\n",
      "Epoch 72, Train Accuracy: 99.0, Domain Accuracy: 93.99181365966797, Source Test Accuracy: 88.0, Target Test Accuracy: 18.0\n",
      "Epoch 73, Train Accuracy: 98.5, Domain Accuracy: 94.06800079345703, Source Test Accuracy: 88.0, Target Test Accuracy: 18.0\n",
      "Epoch 74, Train Accuracy: 99.0, Domain Accuracy: 94.14213562011719, Source Test Accuracy: 88.0, Target Test Accuracy: 16.0\n",
      "Epoch 75, Train Accuracy: 98.5, Domain Accuracy: 94.21428680419922, Source Test Accuracy: 90.0, Target Test Accuracy: 14.0\n",
      "Epoch 76, Train Accuracy: 98.0, Domain Accuracy: 94.29041290283203, Source Test Accuracy: 86.0, Target Test Accuracy: 16.0\n",
      "Epoch 77, Train Accuracy: 98.5, Domain Accuracy: 94.35296630859375, Source Test Accuracy: 90.0, Target Test Accuracy: 18.0\n",
      "Epoch 78, Train Accuracy: 99.0, Domain Accuracy: 94.42536926269531, Source Test Accuracy: 90.0, Target Test Accuracy: 16.0\n",
      "Epoch 79, Train Accuracy: 99.5, Domain Accuracy: 94.49593353271484, Source Test Accuracy: 86.0, Target Test Accuracy: 18.0\n",
      "Epoch 80, Train Accuracy: 98.5, Domain Accuracy: 94.56472778320312, Source Test Accuracy: 90.0, Target Test Accuracy: 14.0\n",
      "Epoch 81, Train Accuracy: 98.0, Domain Accuracy: 94.6318359375, Source Test Accuracy: 88.0, Target Test Accuracy: 12.0\n",
      "Epoch 82, Train Accuracy: 99.0, Domain Accuracy: 94.69730377197266, Source Test Accuracy: 88.0, Target Test Accuracy: 16.0\n",
      "Epoch 83, Train Accuracy: 98.5, Domain Accuracy: 94.75581359863281, Source Test Accuracy: 88.0, Target Test Accuracy: 16.0\n",
      "Epoch 84, Train Accuracy: 100.0, Domain Accuracy: 94.81292724609375, Source Test Accuracy: 88.0, Target Test Accuracy: 16.0\n",
      "Epoch 85, Train Accuracy: 99.0, Domain Accuracy: 94.87394714355469, Source Test Accuracy: 90.0, Target Test Accuracy: 14.0\n",
      "Epoch 86, Train Accuracy: 99.5, Domain Accuracy: 94.93355560302734, Source Test Accuracy: 88.0, Target Test Accuracy: 16.0\n",
      "Epoch 87, Train Accuracy: 100.0, Domain Accuracy: 94.99179077148438, Source Test Accuracy: 88.0, Target Test Accuracy: 18.0\n",
      "Epoch 88, Train Accuracy: 99.0, Domain Accuracy: 95.04869842529297, Source Test Accuracy: 90.0, Target Test Accuracy: 14.0\n",
      "Epoch 89, Train Accuracy: 100.0, Domain Accuracy: 95.10433959960938, Source Test Accuracy: 88.0, Target Test Accuracy: 16.0\n",
      "Epoch 90, Train Accuracy: 99.5, Domain Accuracy: 95.15872955322266, Source Test Accuracy: 90.0, Target Test Accuracy: 14.0\n",
      "Epoch 91, Train Accuracy: 100.0, Domain Accuracy: 95.21192932128906, Source Test Accuracy: 90.0, Target Test Accuracy: 12.0\n",
      "Epoch 92, Train Accuracy: 99.5, Domain Accuracy: 95.25912475585938, Source Test Accuracy: 88.0, Target Test Accuracy: 18.0\n",
      "Epoch 93, Train Accuracy: 99.0, Domain Accuracy: 95.31009674072266, Source Test Accuracy: 88.0, Target Test Accuracy: 16.0\n",
      "Epoch 94, Train Accuracy: 100.0, Domain Accuracy: 95.35999298095703, Source Test Accuracy: 90.0, Target Test Accuracy: 14.0\n",
      "Epoch 95, Train Accuracy: 99.5, Domain Accuracy: 95.40413665771484, Source Test Accuracy: 88.0, Target Test Accuracy: 18.0\n",
      "Epoch 96, Train Accuracy: 100.0, Domain Accuracy: 95.45201110839844, Source Test Accuracy: 88.0, Target Test Accuracy: 16.0\n",
      "Epoch 97, Train Accuracy: 100.0, Domain Accuracy: 95.49889373779297, Source Test Accuracy: 88.0, Target Test Accuracy: 16.0\n",
      "Epoch 98, Train Accuracy: 99.0, Domain Accuracy: 95.53571319580078, Source Test Accuracy: 88.0, Target Test Accuracy: 16.0\n",
      "Epoch 99, Train Accuracy: 100.0, Domain Accuracy: 95.57630157470703, Source Test Accuracy: 86.0, Target Test Accuracy: 16.0\n",
      "Epoch 100, Train Accuracy: 100.0, Domain Accuracy: 95.60267639160156, Source Test Accuracy: 88.0, Target Test Accuracy: 16.0\n"
     ]
    },
    {
     "data": {
      "image/png": "[encoded data removed]",
      "text/plain": [
       "<Figure size 432x288 with 1 Axes>"
      ]
     },
     "metadata": {
      "needs_background": "light"
     },
     "output_type": "display_data"
    }
   ],
   "source": [
    "EPOCHS = 100\n",
    "alpha = 10\n",
    "\n",
    "train_acc = []\n",
    "test_acc = []\n",
    "svhn_test_acc = []\n",
    "for epoch in range(EPOCHS):\n",
    "    reset_metrics()\n",
    "\n",
    "    for domain_data, label_data in zip(domain_train_ds, train_ds):\n",
    "    \n",
    "        try:\n",
    "            train_step(label_data[0], label_data[1], domain_data[0], domain_data[1], alpha=alpha)\n",
    "\n",
    "        except ValueError: \n",
    "            pass\n",
    "    \n",
    "    for test_data, svhn_test_data in zip(test_ds, svhn_test_ds):\n",
    "        test_step(test_data[0], test_data[1], svhn_test_data[0], svhn_test_data[1])\n",
    "  \n",
    "    template = 'Epoch {}, Train Accuracy: {}, Domain Accuracy: {}, Source Test Accuracy: {}, Target Test Accuracy: {}'\n",
    "    print (template.format(epoch+1,\n",
    "                           train_accuracy.result()*100,\n",
    "                           conf_train_accuracy.result()*100,\n",
    "                           test_accuracy.result()*100,\n",
    "                           svhn_test_accuracy.result()*100,))\n",
    "    \n",
    "    train_acc.append(train_accuracy.result()*100)\n",
    "    test_acc.append(test_accuracy.result()*100)\n",
    "    svhn_test_acc.append(svhn_test_accuracy.result()*100)\n",
    "    \n",
    "plt.plot(list(range(EPOCHS)), train_acc, label = \"Train MNIST\")\n",
    "plt.plot(list(range(EPOCHS)), test_acc, label = \"Test MNIST\")\n",
    "plt.plot(list(range(EPOCHS)), svhn_test_acc, label = \"Test SVHN\")\n",
    "plt.legend(loc='upper left', bbox_to_anchor=(1.0, 1.0),fontsize = 10,frameon=False)\n",
    "plt.x\n",
    "plt.xlabel(\"Epoch\")\n",
    "plt.ylabel(\"Accuracy (%)\")\n",
    "plt.show()    "
   ]
  },
  {
   "cell_type": "code",
   "execution_count": 26,
   "metadata": {
    "ExecuteTime": {
     "end_time": "2022-01-18T03:21:33.075872Z",
     "start_time": "2022-01-18T03:21:32.894999Z"
    },
    "colab": {
     "base_uri": "https://localhost:8080/",
     "height": 586
    },
    "id": "ACOkdubmR4Fi",
    "outputId": "8527d04d-d08d-4e9f-e903-cb777c13761b"
   },
   "outputs": [
    {
     "name": "stdout",
     "output_type": "stream",
     "text": [
      "예측 :  0\n",
      "정답 :  0\n"
     ]
    },
    {
     "data": {
      "image/png": "[encoded data removed]",
      "text/plain": [
       "<Figure size 432x288 with 1 Axes>"
      ]
     },
     "metadata": {
      "needs_background": "light"
     },
     "output_type": "display_data"
    },
    {
     "name": "stdout",
     "output_type": "stream",
     "text": [
      "예측 :  2\n",
      "정답 :  2\n"
     ]
    },
    {
     "data": {
      "image/png": "[encoded data removed]",
      "text/plain": [
       "<Figure size 432x288 with 1 Axes>"
      ]
     },
     "metadata": {
      "needs_background": "light"
     },
     "output_type": "display_data"
    }
   ],
   "source": [
    "for images, labels in test_ds:\n",
    "    features = feature_generator(images)\n",
    "    predictions = label_predictor(features)\n",
    "    print(\"예측 : \", np.argmax(predictions[3]))\n",
    "    print(\"정답 : \", labels[3].numpy())\n",
    "    plt.imshow(images[3])\n",
    "    plt.show()"
   ]
  },
  {
   "cell_type": "code",
   "execution_count": 27,
   "metadata": {
    "ExecuteTime": {
     "end_time": "2022-01-18T03:21:33.257662Z",
     "start_time": "2022-01-18T03:21:33.077845Z"
    },
    "colab": {
     "base_uri": "https://localhost:8080/",
     "height": 586
    },
    "id": "sSrbJKc9R4Fi",
    "outputId": "76eee2f8-1a99-45aa-e18a-56500d0ee936"
   },
   "outputs": [
    {
     "name": "stdout",
     "output_type": "stream",
     "text": [
      "예측 :  2\n",
      "정답 :  0\n"
     ]
    },
    {
     "data": {
      "image/png": "[encoded data removed]",
      "text/plain": [
       "<Figure size 432x288 with 1 Axes>"
      ]
     },
     "metadata": {
      "needs_background": "light"
     },
     "output_type": "display_data"
    },
    {
     "name": "stdout",
     "output_type": "stream",
     "text": [
      "예측 :  2\n",
      "정답 :  1\n"
     ]
    },
    {
     "data": {
      "image/png": "[encoded data removed]",
      "text/plain": [
       "<Figure size 432x288 with 1 Axes>"
      ]
     },
     "metadata": {
      "needs_background": "light"
     },
     "output_type": "display_data"
    }
   ],
   "source": [
    "for images, labels in svhn_test_ds:\n",
    "    features = feature_generator(images)\n",
    "    predictions = label_predictor(features)\n",
    "    print(\"예측 : \", np.argmax(predictions[3]))\n",
    "    print(\"정답 : \", labels[3].numpy())\n",
    "    plt.imshow(images[3])\n",
    "    plt.show()"
   ]
  },
  {
   "cell_type": "code",
   "execution_count": null,
   "metadata": {
    "id": "vBsRLi2NR4Fj"
   },
   "outputs": [],
   "source": []
  },
  {
   "cell_type": "code",
   "execution_count": null,
   "metadata": {},
   "outputs": [],
   "source": []
  },
  {
   "cell_type": "code",
   "execution_count": null,
   "metadata": {},
   "outputs": [],
   "source": []
  }
 ],
 "metadata": {
  "accelerator": "GPU",
  "colab": {
   "collapsed_sections": [],
   "name": "02_Domain_adaptation_v3.ipynb",
   "provenance": []
  },
  "kernelspec": {
   "display_name": "Python 3 (ipykernel)",
   "language": "python",
   "name": "python3"
  },
  "language_info": {
   "codemirror_mode": {
    "name": "ipython",
    "version": 3
   },
   "file_extension": ".py",
   "mimetype": "text/x-python",
   "name": "python",
   "nbconvert_exporter": "python",
   "pygments_lexer": "ipython3",
   "version": "3.9.7"
  }
 },
 "nbformat": 4,
 "nbformat_minor": 1
}
