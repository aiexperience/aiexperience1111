{
  "cells": [
    {
      "cell_type": "markdown",
      "metadata": {
        "id": "zWy6CswzR4FS"
      },
      "source": [
        "<br><br>\n",
        "<font size='6'><b>Domain adaptation\n",
        "</b></font><br><br>\n",
        "\n",
        "<br>\n",
        "<div class=pull-right>\n",
        "By Prof. Hyunseok OH<br>\n",
        "https://sddo.gist.ac.kr/<br>\n",
        "SDDO Lab at GIST\n",
        "</div>"
      ]
    },
    {
      "cell_type": "markdown",
      "metadata": {
        "run_control": {
          "marked": false
        },
        "id": "Lfy9fgjFR4FU"
      },
      "source": [
        "**Table of Contents**\n",
        "\n",
        "* [1. Import library](#section1)  \n",
        "* [2. Data preparation](#section2)  \n",
        "    * [2.1 Immediate use of pre-trained model](#section2.1)  \n",
        "    * [2.2 Normalization Information](#section2.2)  \n",
        "* [3. Train baseline CNN](#section3)  \n",
        "    * [3.1 Baseline model, loss, optimizer, metrics](#section3.1)      \n",
        "    * [3.2 Train and Test function](#section3.2)   \n",
        "    * [3.3 Train on MNIST](#section3.3)           \n",
        "* [4. Domain adversarial neural network](#section4)    \n",
        "    * [4.1 Domain adversarial neural network model, loss, optimizer, metrics](#section4.1)  \n",
        "    * [4.2 Domain label generation](#section4.2)  \n",
        "    * [4.3 Train and Test function](#section4.3)  \n",
        "    * [4.4 Train  with MNIST and SVHN](#section4.4)  "
      ]
    },
    {
      "cell_type": "markdown",
      "metadata": {
        "id": "PnLd4SMXR4FV"
      },
      "source": [
        "<img src=\"https://github.com/MinseokOff/KSME_advanced/blob/main/Pre_trained/domain_adaptation.png?raw=true\" width=\"700\"/>  \n",
        "* 소스 도메인의 정보를 타겟 도메인에 적응시켜 예측 성능 향상\n",
        "* Feature space 상에서 도메인 간 데이터의 관계를 사용"
      ]
    },
    {
      "cell_type": "markdown",
      "metadata": {
        "id": "qPDZGLaPR4FW"
      },
      "source": [
        "### Domain adversarial neural net (DANN)\n",
        "<img src=\"https://github.com/MinseokOff/KSME_advanced/blob/main/Pre_trained/dann.png?raw=true\" width=\"700\"/>  \n",
        "* 타겟 도메인 label 없이 학습\n",
        "* End to end 학습(태스크 분류기, 도메인 분류기)\n",
        "* Backpropagation 변경 레이어 추가: GRL (Gradient reversal layer)"
      ]
    },
    {
      "cell_type": "markdown",
      "metadata": {
        "id": "tp7IDIE2R4FW"
      },
      "source": [
        "<a name='section1'></a> \n",
        "# 1. Import library"
      ]
    },
    {
      "cell_type": "code",
      "execution_count": 31,
      "metadata": {
        "ExecuteTime": {
          "end_time": "2022-01-18T03:21:10.888464Z",
          "start_time": "2022-01-18T03:21:09.755463Z"
        },
        "id": "o2MmZFz-H2Ll"
      },
      "outputs": [],
      "source": [
        "import tensorflow as tf\n",
        "from tensorflow.python.keras.layers import Dense, Flatten, Conv2D, MaxPool2D\n",
        "from tensorflow.python.keras import Model\n",
        "import numpy as np\n",
        "import matplotlib.pyplot as plt\n"
      ]
    },
    {
      "cell_type": "markdown",
      "metadata": {
        "id": "Ojf2VxXPH2Ly"
      },
      "source": [
        "<a name='section2'></a> \n",
        "# 2. Data preparation"
      ]
    },
    {
      "cell_type": "markdown",
      "metadata": {
        "id": "aK9vMdTPR4FY"
      },
      "source": [
        "<a name='section2.1'></a> \n",
        "## 2.1 MNIST and SVHN dataset"
      ]
    },
    {
      "cell_type": "code",
      "source": [
        "!wget https://url.kr/6ri2mk -O 'data.zip'\n",
        "!unzip data.zip -d './data'"
      ],
      "metadata": {
        "colab": {
          "base_uri": "https://localhost:8080/"
        },
        "id": "lE_n50X2T-52",
        "outputId": "e20e56cf-391b-4efc-dda0-0e2b70fa9a53"
      },
      "execution_count": 5,
      "outputs": [
        {
          "output_type": "stream",
          "name": "stdout",
          "text": [
            "--2022-01-18 05:05:51--  https://url.kr/6ri2mk\n",
            "Resolving url.kr (url.kr)... 183.111.169.122\n",
            "Connecting to url.kr (url.kr)|183.111.169.122|:443... connected.\n",
            "HTTP request sent, awaiting response... 302 Found\n",
            "Location: https://url.kr/spam_filtering_system.php?short=6ri2mk [following]\n",
            "--2022-01-18 05:05:53--  https://url.kr/spam_filtering_system.php?short=6ri2mk\n",
            "Reusing existing connection to url.kr:443.\n",
            "HTTP request sent, awaiting response... 302 Found\n",
            "Location: https://github.com/MinseokOff/KSME_advanced/raw/main/Domain_adaptation/data.zip [following]\n",
            "--2022-01-18 05:05:53--  https://github.com/MinseokOff/KSME_advanced/raw/main/Domain_adaptation/data.zip\n",
            "Resolving github.com (github.com)... 140.82.112.4\n",
            "Connecting to github.com (github.com)|140.82.112.4|:443... connected.\n",
            "HTTP request sent, awaiting response... 302 Found\n",
            "Location: https://raw.githubusercontent.com/MinseokOff/KSME_advanced/main/Domain_adaptation/data.zip [following]\n",
            "--2022-01-18 05:05:53--  https://raw.githubusercontent.com/MinseokOff/KSME_advanced/main/Domain_adaptation/data.zip\n",
            "Resolving raw.githubusercontent.com (raw.githubusercontent.com)... 185.199.108.133, 185.199.109.133, 185.199.110.133, ...\n",
            "Connecting to raw.githubusercontent.com (raw.githubusercontent.com)|185.199.108.133|:443... connected.\n",
            "HTTP request sent, awaiting response... 200 OK\n",
            "Length: 569122 (556K) [application/zip]\n",
            "Saving to: ‘data.zip’\n",
            "\n",
            "data.zip            100%[===================>] 555.78K  --.-KB/s    in 0.007s  \n",
            "\n",
            "2022-01-18 05:05:53 (83.1 MB/s) - ‘data.zip’ saved [569122/569122]\n",
            "\n",
            "Archive:  data.zip\n",
            "  inflating: ./data/test_mnist.npz   \n",
            "  inflating: ./data/test_svhn.npz    \n",
            "  inflating: ./data/train_mnist.npz  \n",
            "  inflating: ./data/train_svhn.npz   \n"
          ]
        }
      ]
    },
    {
      "cell_type": "code",
      "execution_count": 6,
      "metadata": {
        "ExecuteTime": {
          "end_time": "2022-01-18T03:21:10.979977Z",
          "start_time": "2022-01-18T03:21:10.890277Z"
        },
        "scrolled": true,
        "id": "aUZ3H6QTR4FZ"
      },
      "outputs": [],
      "source": [
        "mnist_train = np.load('./data/train_mnist.npz')\n",
        "x_train, y_train  = mnist_train['x'], mnist_train['y']\n",
        "mnist_test = np.load('./data/test_mnist.npz')\n",
        "x_test, y_test  = mnist_test['x'], mnist_test['y']\n",
        "\n",
        "train_ds = tf.data.Dataset.from_tensor_slices((x_train, y_train)).shuffle(100).batch(32)\n",
        "test_ds = tf.data.Dataset.from_tensor_slices((x_test, y_test)).batch(32)"
      ]
    },
    {
      "cell_type": "code",
      "execution_count": 7,
      "metadata": {
        "ExecuteTime": {
          "end_time": "2022-01-18T03:21:10.988256Z",
          "start_time": "2022-01-18T03:21:10.981373Z"
        },
        "id": "b2WxxiXRR4FZ"
      },
      "outputs": [],
      "source": [
        "svhn_train = np.load('./data/train_svhn.npz')\n",
        "svhn_train_ls, svhn_train_y  = svhn_train['x'], svhn_train['y']\n",
        "svhn_test = np.load('./data/test_svhn.npz')\n",
        "svhn_test_ls, svhn_test_y  = svhn_test['x'], svhn_test['y']\n",
        "\n",
        "svhn_train_ds = tf.data.Dataset.from_tensor_slices((svhn_train_ls,svhn_train_y)).batch(32)\n",
        "svhn_test_ds = tf.data.Dataset.from_tensor_slices((svhn_test_ls,svhn_test_y)).batch(32)"
      ]
    },
    {
      "cell_type": "markdown",
      "metadata": {
        "id": "I0fcdiWvH2L_"
      },
      "source": [
        "<a name='section2.2'></a> \n",
        "## 2.2 Normalization Information"
      ]
    },
    {
      "cell_type": "code",
      "execution_count": 8,
      "metadata": {
        "ExecuteTime": {
          "end_time": "2022-01-18T03:21:11.006670Z",
          "start_time": "2022-01-18T03:21:10.989799Z"
        },
        "colab": {
          "base_uri": "https://localhost:8080/"
        },
        "id": "fYnyXmI7H2L_",
        "outputId": "c97d09ca-9787-4967-b329-de3a76741e0a"
      },
      "outputs": [
        {
          "output_type": "execute_result",
          "data": {
            "text/plain": [
              "array([73.41482781, 73.1164477 , 75.94361926])"
            ]
          },
          "metadata": {},
          "execution_count": 8
        }
      ],
      "source": [
        "all_train_domain_images = np.vstack((x_train, svhn_train_ls))\n",
        "channel_mean = all_train_domain_images.mean((0,1,2))\n",
        "channel_mean"
      ]
    },
    {
      "cell_type": "markdown",
      "metadata": {
        "id": "FIXPXAekR4Fa"
      },
      "source": [
        "<a name='section3'></a> \n",
        "# 3. Train baseline CNN"
      ]
    },
    {
      "cell_type": "markdown",
      "metadata": {
        "id": "ICLSnEEOR4Fa"
      },
      "source": [
        "<img src=\"https://github.com/MinseokOff/KSME_advanced/blob/main/Pre_trained/cnn_arc.png?raw=true\" width=\"700\"/>"
      ]
    },
    {
      "cell_type": "markdown",
      "metadata": {
        "id": "pEhlU0bpR4Fa"
      },
      "source": [
        "<a name='section3.1'></a> \n",
        "## 3.1 Baseline model, loss, optimizer, metrics"
      ]
    },
    {
      "cell_type": "code",
      "execution_count": 9,
      "metadata": {
        "ExecuteTime": {
          "end_time": "2022-01-18T03:21:11.021825Z",
          "start_time": "2022-01-18T03:21:11.007590Z"
        },
        "id": "Mf0h57juH2MB"
      },
      "outputs": [],
      "source": [
        "class BaselineModel(Model):\n",
        "    def __init__(self):\n",
        "        super(BaselineModel, self).__init__()\n",
        "    \n",
        "        self.normalise = lambda x: (tf.cast(x, tf.float64) - channel_mean) / 255.0\n",
        "        self.conv1 = Conv2D(64, 5, activation='relu')\n",
        "        self.conv2 = Conv2D(128, 5, activation='relu')\n",
        "        self.maxpool = MaxPool2D(2)\n",
        "        self.flatten = Flatten()\n",
        "    \n",
        "        self.d1 = Dense(128, activation='relu')\n",
        "        self.d2 = Dense(10, activation='softmax')\n",
        "    \n",
        "\n",
        "    def call(self, x):\n",
        "        x = self.normalise(x)\n",
        "        x = self.conv1(x)\n",
        "        x = self.conv2(x)\n",
        "        x = self.maxpool(x)\n",
        "        x = self.flatten(x)\n",
        "        x = self.d1(x)\n",
        "\n",
        "        return self.d2(x)\n",
        "\n",
        "model = BaselineModel()"
      ]
    },
    {
      "cell_type": "code",
      "execution_count": 10,
      "metadata": {
        "ExecuteTime": {
          "end_time": "2022-01-18T03:21:11.025185Z",
          "start_time": "2022-01-18T03:21:11.022798Z"
        },
        "id": "dYlLL-ntH2MB"
      },
      "outputs": [],
      "source": [
        "loss_object = tf.keras.losses.SparseCategoricalCrossentropy()\n",
        "optimizer = tf.keras.optimizers.Adam()"
      ]
    },
    {
      "cell_type": "code",
      "execution_count": 11,
      "metadata": {
        "ExecuteTime": {
          "end_time": "2022-01-18T03:21:11.050567Z",
          "start_time": "2022-01-18T03:21:11.026097Z"
        },
        "id": "669bZQ47H2MD"
      },
      "outputs": [],
      "source": [
        "train_loss = tf.keras.metrics.Mean(name='train_loss')\n",
        "train_accuracy = tf.keras.metrics.SparseCategoricalAccuracy(name='train_accuracy')\n",
        "\n",
        "test_loss = tf.keras.metrics.Mean(name='test_loss')\n",
        "test_accuracy = tf.keras.metrics.SparseCategoricalAccuracy(name='test_accuracy')\n",
        "\n",
        "svhn_test_loss = tf.keras.metrics.Mean(name='test_loss')\n",
        "svhn_test_accuracy = tf.keras.metrics.SparseCategoricalAccuracy(name='test_accuracy')"
      ]
    },
    {
      "cell_type": "markdown",
      "metadata": {
        "id": "jQCffO4sR4Fb"
      },
      "source": [
        "<a name='section3.2'></a> \n",
        "## 3.2 Train and Test function"
      ]
    },
    {
      "cell_type": "code",
      "execution_count": 12,
      "metadata": {
        "ExecuteTime": {
          "end_time": "2022-01-18T03:21:11.054651Z",
          "start_time": "2022-01-18T03:21:11.051768Z"
        },
        "id": "t6ymFiMdH2ME"
      },
      "outputs": [],
      "source": [
        "@tf.function\n",
        "def train_step(images, labels):\n",
        "    with tf.GradientTape() as tape:\n",
        "        predictions = model(images)\n",
        "        loss = loss_object(labels, predictions)\n",
        "    gradients = tape.gradient(loss, model.trainable_variables)\n",
        "    optimizer.apply_gradients(zip(gradients, model.trainable_variables))\n",
        "\n",
        "    train_loss(loss)\n",
        "    train_accuracy(labels, predictions)"
      ]
    },
    {
      "cell_type": "code",
      "execution_count": 13,
      "metadata": {
        "ExecuteTime": {
          "end_time": "2022-01-18T03:21:11.062237Z",
          "start_time": "2022-01-18T03:21:11.055715Z"
        },
        "id": "JFKHom14H2MF"
      },
      "outputs": [],
      "source": [
        "@tf.function\n",
        "def test_step(mnist_images, labels, svhn_images, labels2):\n",
        "    predictions = model(mnist_images)\n",
        "    t_loss = loss_object(labels, predictions)\n",
        "\n",
        "    test_loss(t_loss)\n",
        "    test_accuracy(labels, predictions)\n",
        "\n",
        "    predictions = model(svhn_images)\n",
        "    t_loss = loss_object(labels2, predictions)\n",
        "\n",
        "    svhn_test_loss(t_loss)\n",
        "    svhn_test_accuracy(labels2, predictions)"
      ]
    },
    {
      "cell_type": "code",
      "execution_count": 14,
      "metadata": {
        "ExecuteTime": {
          "end_time": "2022-01-18T03:21:11.067666Z",
          "start_time": "2022-01-18T03:21:11.063882Z"
        },
        "id": "-LZeYmDLH2MG"
      },
      "outputs": [],
      "source": [
        "def reset_metrics():\n",
        "    train_loss.reset_states()\n",
        "    train_accuracy.reset_states()\n",
        "    test_loss.reset_states()\n",
        "    test_accuracy.reset_states()\n",
        "    svhn_test_loss.reset_states()\n",
        "    svhn_test_accuracy.reset_states()"
      ]
    },
    {
      "cell_type": "markdown",
      "metadata": {
        "id": "-7ANgVhDH2MH"
      },
      "source": [
        "<a name='section3.3'></a> \n",
        "## 3.3 Train on MNIST"
      ]
    },
    {
      "cell_type": "code",
      "execution_count": 15,
      "metadata": {
        "ExecuteTime": {
          "end_time": "2022-01-18T03:21:16.493928Z",
          "start_time": "2022-01-18T03:21:11.068816Z"
        },
        "colab": {
          "base_uri": "https://localhost:8080/",
          "height": 632
        },
        "id": "9b6P89cfH2MI",
        "outputId": "4eed17b0-6820-4142-9284-1c1c88644f97",
        "scrolled": true
      },
      "outputs": [
        {
          "output_type": "stream",
          "name": "stdout",
          "text": [
            "Epoch 1, Train Accuracy: 40.0, Source Test Accuracy: 64.0, Target Test Accuracy: 14.0\n",
            "Epoch 2, Train Accuracy: 82.0, Source Test Accuracy: 68.0, Target Test Accuracy: 16.0\n",
            "Epoch 3, Train Accuracy: 91.0, Source Test Accuracy: 84.0, Target Test Accuracy: 14.0\n",
            "Epoch 4, Train Accuracy: 97.5, Source Test Accuracy: 86.0, Target Test Accuracy: 10.0\n",
            "Epoch 5, Train Accuracy: 99.0, Source Test Accuracy: 92.0, Target Test Accuracy: 16.0\n",
            "Epoch 6, Train Accuracy: 100.0, Source Test Accuracy: 94.0, Target Test Accuracy: 12.0\n",
            "Epoch 7, Train Accuracy: 100.0, Source Test Accuracy: 92.0, Target Test Accuracy: 14.0\n",
            "Epoch 8, Train Accuracy: 100.0, Source Test Accuracy: 94.0, Target Test Accuracy: 12.0\n",
            "Epoch 9, Train Accuracy: 100.0, Source Test Accuracy: 94.0, Target Test Accuracy: 14.0\n",
            "Epoch 10, Train Accuracy: 100.0, Source Test Accuracy: 94.0, Target Test Accuracy: 14.0\n",
            "Epoch 11, Train Accuracy: 100.0, Source Test Accuracy: 94.0, Target Test Accuracy: 14.0\n",
            "Epoch 12, Train Accuracy: 100.0, Source Test Accuracy: 94.0, Target Test Accuracy: 14.0\n",
            "Epoch 13, Train Accuracy: 100.0, Source Test Accuracy: 94.0, Target Test Accuracy: 14.0\n",
            "Epoch 14, Train Accuracy: 100.0, Source Test Accuracy: 94.0, Target Test Accuracy: 14.0\n",
            "Epoch 15, Train Accuracy: 100.0, Source Test Accuracy: 94.0, Target Test Accuracy: 12.0\n",
            "Epoch 16, Train Accuracy: 100.0, Source Test Accuracy: 94.0, Target Test Accuracy: 12.0\n",
            "Epoch 17, Train Accuracy: 100.0, Source Test Accuracy: 94.0, Target Test Accuracy: 12.0\n",
            "Epoch 18, Train Accuracy: 100.0, Source Test Accuracy: 94.0, Target Test Accuracy: 12.0\n",
            "Epoch 19, Train Accuracy: 100.0, Source Test Accuracy: 94.0, Target Test Accuracy: 12.0\n",
            "Epoch 20, Train Accuracy: 100.0, Source Test Accuracy: 94.0, Target Test Accuracy: 12.0\n"
          ]
        },
        {
          "output_type": "display_data",
          "data": {
            "image/png": "[encoded data removed]",
            "text/plain": [
              "<Figure size 432x288 with 1 Axes>"
            ]
          },
          "metadata": {
            "needs_background": "light"
          }
        }
      ],
      "source": [
        "EPOCHS = 20\n",
        "\n",
        "train_acc = []\n",
        "test_acc = []\n",
        "svhn_test_acc = []\n",
        "for epoch in range(EPOCHS):\n",
        "    reset_metrics()\n",
        "    for images, labels in train_ds:\n",
        "        train_step(images, labels)\n",
        "\n",
        "    for test_data, svhn_test_data in zip(test_ds,svhn_test_ds):\n",
        "        test_step(test_data[0], test_data[1], svhn_test_data[0], svhn_test_data[1])\n",
        "\n",
        "    template = 'Epoch {}, Train Accuracy: {}, Source Test Accuracy: {}, Target Test Accuracy: {}'\n",
        "    print (template.format(epoch+1,\n",
        "                           train_accuracy.result()*100,\n",
        "                           test_accuracy.result()*100,\n",
        "                           svhn_test_accuracy.result()*100,))\n",
        "    \n",
        "    train_acc.append(train_accuracy.result()*100)\n",
        "    test_acc.append(test_accuracy.result()*100)\n",
        "    svhn_test_acc.append(svhn_test_accuracy.result()*100)\n",
        "    \n",
        "plt.plot(list(range(EPOCHS)), train_acc, label = \"Train MNIST\")\n",
        "plt.plot(list(range(EPOCHS)), test_acc, label = \"Test MNIST\")\n",
        "plt.plot(list(range(EPOCHS)), svhn_test_acc, label = \"Test SVHN\")\n",
        "plt.legend(loc='upper left', bbox_to_anchor=(1.0, 1.0),fontsize = 10,frameon=False)\n",
        "plt.show()    "
      ]
    },
    {
      "cell_type": "code",
      "execution_count": 16,
      "metadata": {
        "ExecuteTime": {
          "end_time": "2022-01-18T03:21:16.763514Z",
          "start_time": "2022-01-18T03:21:16.495257Z"
        },
        "colab": {
          "base_uri": "https://localhost:8080/",
          "height": 586
        },
        "id": "mf4M0ZSkR4Fd",
        "outputId": "1e00cfe9-d6e8-49c9-fa8d-ee978fe394b5"
      },
      "outputs": [
        {
          "output_type": "stream",
          "name": "stdout",
          "text": [
            "예측 :  0\n",
            "정답 :  0\n"
          ]
        },
        {
          "output_type": "display_data",
          "data": {
            "image/png": "[encoded data removed]",
            "text/plain": [
              "<Figure size 432x288 with 1 Axes>"
            ]
          },
          "metadata": {
            "needs_background": "light"
          }
        },
        {
          "output_type": "stream",
          "name": "stdout",
          "text": [
            "예측 :  2\n",
            "정답 :  2\n"
          ]
        },
        {
          "output_type": "display_data",
          "data": {
            "image/png": "[encoded data removed]",
            "text/plain": [
              "<Figure size 432x288 with 1 Axes>"
            ]
          },
          "metadata": {
            "needs_background": "light"
          }
        }
      ],
      "source": [
        "for images, labels in test_ds:\n",
        "    predictions = model(images)\n",
        "    print(\"예측 : \", np.argmax(predictions[3]))\n",
        "    print(\"정답 : \", labels[3].numpy())\n",
        "    plt.imshow(images[3])\n",
        "    plt.show()"
      ]
    },
    {
      "cell_type": "code",
      "execution_count": 17,
      "metadata": {
        "ExecuteTime": {
          "end_time": "2022-01-18T03:21:16.939086Z",
          "start_time": "2022-01-18T03:21:16.764580Z"
        },
        "colab": {
          "base_uri": "https://localhost:8080/",
          "height": 586
        },
        "id": "pmKGSblQR4Fd",
        "outputId": "2aebff6c-668c-4fa3-9957-a49d50782af9"
      },
      "outputs": [
        {
          "output_type": "stream",
          "name": "stdout",
          "text": [
            "예측 :  0\n",
            "정답 :  0\n"
          ]
        },
        {
          "output_type": "display_data",
          "data": {
            "image/png": "[encoded data removed]",
            "text/plain": [
              "<Figure size 432x288 with 1 Axes>"
            ]
          },
          "metadata": {
            "needs_background": "light"
          }
        },
        {
          "output_type": "stream",
          "name": "stdout",
          "text": [
            "예측 :  0\n",
            "정답 :  1\n"
          ]
        },
        {
          "output_type": "display_data",
          "data": {
            "image/png": "[encoded data removed]",
            "text/plain": [
              "<Figure size 432x288 with 1 Axes>"
            ]
          },
          "metadata": {
            "needs_background": "light"
          }
        }
      ],
      "source": [
        "for images, labels in svhn_test_ds:\n",
        "    predictions = model(images)\n",
        "    print(\"예측 : \", np.argmax(predictions[3]))\n",
        "    print(\"정답 : \", labels[3].numpy())\n",
        "    plt.imshow(images[3])\n",
        "    plt.show()"
      ]
    },
    {
      "cell_type": "markdown",
      "metadata": {
        "id": "mhE3yGd2H2MJ"
      },
      "source": [
        "<a name='section4'></a> \n",
        "# 4. Domain adversarial neural network"
      ]
    },
    {
      "cell_type": "markdown",
      "metadata": {
        "id": "Mh3wdWGIR4Fd"
      },
      "source": [
        "<img src=\"https://github.com/MinseokOff/KSME_advanced/blob/main/Pre_trained/dann_arc.png?raw=true\" width=\"700\"/>"
      ]
    },
    {
      "cell_type": "markdown",
      "metadata": {
        "id": "jBaDXKjkR4Fd"
      },
      "source": [
        "<a name='section4.1'></a> \n",
        "## 4.1 Domain adversarial neural network model, loss, optimizer, metrics\n",
        "- feature generator\n",
        "- label predictor \n",
        "- domain predictor "
      ]
    },
    {
      "cell_type": "code",
      "execution_count": 18,
      "metadata": {
        "ExecuteTime": {
          "end_time": "2022-01-18T03:21:16.948767Z",
          "start_time": "2022-01-18T03:21:16.940325Z"
        },
        "id": "4Vb4mGKwH2MJ"
      },
      "outputs": [],
      "source": [
        "class FeatureGenerator(Model):\n",
        "    def __init__(self):\n",
        "        super(FeatureGenerator, self).__init__() \n",
        "        self.normalise = lambda x: (tf.cast(x, tf.float64) - channel_mean) / 255.0\n",
        "        self.conv1 = Conv2D(64, 5, activation='relu')\n",
        "        self.conv2 = Conv2D(128, 5, activation='relu')\n",
        "        self.maxpool = MaxPool2D(2)\n",
        "        self.flatten = Flatten()\n",
        "    \n",
        "    def call(self, x):\n",
        "        x = self.normalise(x)\n",
        "        x = self.conv1(x)\n",
        "        x = self.conv2(x)\n",
        "        x = self.maxpool(x)\n",
        "\n",
        "        return self.flatten(x)\n",
        "\n",
        "feature_generator = FeatureGenerator()"
      ]
    },
    {
      "cell_type": "code",
      "execution_count": 19,
      "metadata": {
        "ExecuteTime": {
          "end_time": "2022-01-18T03:21:16.962461Z",
          "start_time": "2022-01-18T03:21:16.950591Z"
        },
        "id": "4OqlhZtxH2MK"
      },
      "outputs": [],
      "source": [
        "class LabelPredictor(Model):\n",
        "    def __init__(self):\n",
        "        super(LabelPredictor, self).__init__() \n",
        "        self.d1 = Dense(128, activation='relu')\n",
        "        self.d2 = Dense(10, activation='softmax')\n",
        "\n",
        "    def call(self, feats):  \n",
        "        feats = self.d1(feats)\n",
        "        return self.d2(feats)\n",
        "\n",
        "label_predictor = LabelPredictor()"
      ]
    },
    {
      "cell_type": "code",
      "execution_count": 20,
      "metadata": {
        "ExecuteTime": {
          "end_time": "2022-01-18T03:21:16.970468Z",
          "start_time": "2022-01-18T03:21:16.963768Z"
        },
        "id": "TTC5gqXkH2ML"
      },
      "outputs": [],
      "source": [
        "class DomainPredictor(Model):\n",
        "    def __init__(self):\n",
        "        super(DomainPredictor, self).__init__()   \n",
        "        self.d3 = Dense(64, activation='relu')\n",
        "        self.d4 = Dense(2, activation='softmax')\n",
        "\n",
        "    def call(self, feats):\n",
        "        feats = self.d3(feats)\n",
        "        return self.d4(feats)\n",
        "\n",
        "domain_predictor = DomainPredictor()"
      ]
    },
    {
      "cell_type": "code",
      "execution_count": 21,
      "metadata": {
        "ExecuteTime": {
          "end_time": "2022-01-18T03:21:16.975358Z",
          "start_time": "2022-01-18T03:21:16.972145Z"
        },
        "id": "GrE7rbOaR4Fe"
      },
      "outputs": [],
      "source": [
        "loss_object = tf.keras.losses.SparseCategoricalCrossentropy()\n",
        "d_optimizer = tf.keras.optimizers.Adam(learning_rate=0.001)\n",
        "f_optimizer = tf.keras.optimizers.Adam(learning_rate=0.001)"
      ]
    },
    {
      "cell_type": "code",
      "execution_count": 22,
      "metadata": {
        "ExecuteTime": {
          "end_time": "2022-01-18T03:21:17.005343Z",
          "start_time": "2022-01-18T03:21:16.976661Z"
        },
        "id": "FHq7silgR4Fe"
      },
      "outputs": [],
      "source": [
        "train_loss = tf.keras.metrics.Mean(name='train_loss')\n",
        "train_accuracy = tf.keras.metrics.SparseCategoricalAccuracy(name='train_accuracy')\n",
        "\n",
        "test_loss = tf.keras.metrics.Mean(name='test_loss')\n",
        "test_accuracy = tf.keras.metrics.SparseCategoricalAccuracy(name='test_accuracy')\n",
        "\n",
        "svhn_test_loss = tf.keras.metrics.Mean(name='m_test_loss')\n",
        "svhn_test_accuracy = tf.keras.metrics.SparseCategoricalAccuracy(name='m_test_accuracy')"
      ]
    },
    {
      "cell_type": "code",
      "execution_count": 23,
      "metadata": {
        "ExecuteTime": {
          "end_time": "2022-01-18T03:21:17.015667Z",
          "start_time": "2022-01-18T03:21:17.006704Z"
        },
        "id": "97xK2tm2R4Ff"
      },
      "outputs": [],
      "source": [
        "conf_train_loss = tf.keras.metrics.Mean(name='c_train_loss')\n",
        "conf_train_accuracy = tf.keras.metrics.SparseCategoricalAccuracy(name='c_train_accuracy')"
      ]
    },
    {
      "cell_type": "markdown",
      "metadata": {
        "id": "1_CGauj8R4Ff"
      },
      "source": [
        "<a name='section4.2'></a> \n",
        "## 4.2 Domain label generation"
      ]
    },
    {
      "cell_type": "code",
      "execution_count": 24,
      "metadata": {
        "ExecuteTime": {
          "end_time": "2022-01-18T03:21:17.022036Z",
          "start_time": "2022-01-18T03:21:17.016733Z"
        },
        "id": "jHeWfO05H2MM"
      },
      "outputs": [],
      "source": [
        "x_train_domain_labels = np.ones([len(x_train)])\n",
        "svhn_train_domain_labels = np.zeros([len(svhn_train_ls)])\n",
        "all_train_domain_labels = np.hstack((x_train_domain_labels, svhn_train_domain_labels))\n",
        "\n",
        "domain_train_ds = tf.data.Dataset.from_tensor_slices(\n",
        "    (all_train_domain_images, tf.cast(all_train_domain_labels, tf.int8))).shuffle(60000).batch(32)"
      ]
    },
    {
      "cell_type": "markdown",
      "metadata": {
        "id": "AYLRoQ2FR4Ff"
      },
      "source": [
        "<a name='section4.3'></a> \n",
        "## 4.3 Train and Test function"
      ]
    },
    {
      "cell_type": "code",
      "execution_count": 25,
      "metadata": {
        "ExecuteTime": {
          "end_time": "2022-01-18T03:21:17.037344Z",
          "start_time": "2022-01-18T03:21:17.023121Z"
        },
        "id": "_jfXBTueH2MS",
        "run_control": {
          "marked": false
        }
      },
      "outputs": [],
      "source": [
        "@tf.function\n",
        "def train_step(images, labels, images2, domains, alpha):\n",
        "    \n",
        "    ## Update the generator and the classifier\n",
        "    with tf.GradientTape(persistent=True) as tape:\n",
        "        features = feature_generator(images)\n",
        "        l_predictions = label_predictor(features)\n",
        "        features = feature_generator(images2)\n",
        "        d_predictions = domain_predictor(features)\n",
        "        label_loss = loss_object(labels, l_predictions)\n",
        "        domain_loss = loss_object(domains, d_predictions)\n",
        "    \n",
        "    f_gradients_on_label_loss = tape.gradient(label_loss, feature_generator.trainable_variables)\n",
        "    f_gradients_on_domain_loss = tape.gradient(domain_loss, feature_generator.trainable_variables)    \n",
        "    f_gradients = [f_gradients_on_label_loss[i] - alpha*f_gradients_on_domain_loss[i] for i in range(len(f_gradients_on_domain_loss))]\n",
        "\n",
        "    l_gradients = tape.gradient(label_loss, label_predictor.trainable_variables)\n",
        "    f_optimizer.apply_gradients(zip(f_gradients+l_gradients, \n",
        "                                  feature_generator.trainable_variables+label_predictor.trainable_variables)) \n",
        "    \n",
        "    ## Update the discriminator: Comment this bit to complete all updates in one step. Asynchronous updating \n",
        "    with tf.GradientTape() as tape:\n",
        "        features = feature_generator(images2)\n",
        "        d_predictions = domain_predictor(features)\n",
        "        domain_loss = loss_object(domains, d_predictions)\n",
        "   \n",
        "    d_gradients = tape.gradient(domain_loss, domain_predictor.trainable_variables)  \n",
        "    d_gradients = [alpha*i for i in d_gradients]\n",
        "    d_optimizer.apply_gradients(zip(d_gradients, domain_predictor.trainable_variables))\n",
        "  \n",
        "    train_loss(label_loss)\n",
        "    train_accuracy(labels, l_predictions)\n",
        "    conf_train_loss(domain_loss)\n",
        "    conf_train_accuracy(domains, d_predictions)"
      ]
    },
    {
      "cell_type": "code",
      "execution_count": 26,
      "metadata": {
        "ExecuteTime": {
          "end_time": "2022-01-18T03:21:17.045149Z",
          "start_time": "2022-01-18T03:21:17.038782Z"
        },
        "id": "Q-8GONwqH2MT"
      },
      "outputs": [],
      "source": [
        "@tf.function\n",
        "def test_step(mnist_images, labels, svhn_images, labels2):\n",
        "    features = feature_generator(mnist_images)\n",
        "    predictions = label_predictor(features)\n",
        "    t_loss = loss_object(labels, predictions)\n",
        "\n",
        "    test_loss(t_loss)\n",
        "    test_accuracy(labels, predictions)\n",
        "\n",
        "    features = feature_generator(svhn_images)\n",
        "    predictions = label_predictor(features)\n",
        "    t_loss = loss_object(labels2, predictions)\n",
        "\n",
        "    svhn_test_loss(t_loss)\n",
        "    svhn_test_accuracy(labels2, predictions)"
      ]
    },
    {
      "cell_type": "code",
      "execution_count": 27,
      "metadata": {
        "ExecuteTime": {
          "end_time": "2022-01-18T03:21:17.051266Z",
          "start_time": "2022-01-18T03:21:17.046927Z"
        },
        "id": "c1YDFxqdH2MU"
      },
      "outputs": [],
      "source": [
        "def reset_metrics():\n",
        "    train_loss.reset_states()\n",
        "    train_accuracy.reset_states()\n",
        "    test_loss.reset_states()\n",
        "    test_accuracy.reset_states()\n",
        "    svhn_test_loss.reset_states()\n",
        "    svhn_test_accuracy.reset_states()"
      ]
    },
    {
      "cell_type": "markdown",
      "metadata": {
        "id": "MlDxRyDYR4Fh"
      },
      "source": [
        "<a name='section4.4'></a> \n",
        "## 4.4 Train  with MNIST and SVHN"
      ]
    },
    {
      "cell_type": "code",
      "execution_count": 28,
      "metadata": {
        "ExecuteTime": {
          "end_time": "2022-01-18T03:21:32.893794Z",
          "start_time": "2022-01-18T03:21:17.052325Z"
        },
        "colab": {
          "base_uri": "https://localhost:8080/",
          "height": 1000
        },
        "id": "TAEV-vrfH2MV",
        "outputId": "e62df690-6728-4ff0-9226-a90d2ab0246c",
        "scrolled": true
      },
      "outputs": [
        {
          "output_type": "stream",
          "name": "stdout",
          "text": [
            "Epoch 1, Train Accuracy: 22.0, Domain Accuracy: 50.44642639160156, Source Test Accuracy: 34.0, Target Test Accuracy: 6.0\n",
            "Epoch 2, Train Accuracy: 40.0, Domain Accuracy: 52.67857360839844, Source Test Accuracy: 44.0, Target Test Accuracy: 10.0\n",
            "Epoch 3, Train Accuracy: 27.000001907348633, Domain Accuracy: 50.2976188659668, Source Test Accuracy: 12.0, Target Test Accuracy: 12.0\n",
            "Epoch 4, Train Accuracy: 26.499998092651367, Domain Accuracy: 50.44642639160156, Source Test Accuracy: 42.0, Target Test Accuracy: 14.0\n",
            "Epoch 5, Train Accuracy: 58.0, Domain Accuracy: 54.107139587402344, Source Test Accuracy: 72.0, Target Test Accuracy: 12.0\n",
            "Epoch 6, Train Accuracy: 68.0, Domain Accuracy: 55.20833206176758, Source Test Accuracy: 66.0, Target Test Accuracy: 16.0\n",
            "Epoch 7, Train Accuracy: 66.5, Domain Accuracy: 55.61224365234375, Source Test Accuracy: 76.0, Target Test Accuracy: 10.0\n",
            "Epoch 8, Train Accuracy: 82.0, Domain Accuracy: 58.705360412597656, Source Test Accuracy: 70.0, Target Test Accuracy: 16.0\n",
            "Epoch 9, Train Accuracy: 82.5, Domain Accuracy: 61.70634460449219, Source Test Accuracy: 72.0, Target Test Accuracy: 12.0\n",
            "Epoch 10, Train Accuracy: 81.0, Domain Accuracy: 63.83928680419922, Source Test Accuracy: 66.0, Target Test Accuracy: 12.0\n",
            "Epoch 11, Train Accuracy: 78.0, Domain Accuracy: 66.2337646484375, Source Test Accuracy: 52.0, Target Test Accuracy: 8.0\n",
            "Epoch 12, Train Accuracy: 70.5, Domain Accuracy: 68.34077453613281, Source Test Accuracy: 62.0, Target Test Accuracy: 10.0\n",
            "Epoch 13, Train Accuracy: 77.5, Domain Accuracy: 69.60851287841797, Source Test Accuracy: 66.0, Target Test Accuracy: 8.0\n",
            "Epoch 14, Train Accuracy: 82.5, Domain Accuracy: 70.82270050048828, Source Test Accuracy: 52.0, Target Test Accuracy: 10.0\n",
            "Epoch 15, Train Accuracy: 79.0, Domain Accuracy: 71.60713958740234, Source Test Accuracy: 58.0, Target Test Accuracy: 6.0\n",
            "Epoch 16, Train Accuracy: 68.0, Domain Accuracy: 71.90290069580078, Source Test Accuracy: 48.0, Target Test Accuracy: 8.0\n",
            "Epoch 17, Train Accuracy: 80.0, Domain Accuracy: 72.13760375976562, Source Test Accuracy: 52.0, Target Test Accuracy: 8.0\n",
            "Epoch 18, Train Accuracy: 74.0, Domain Accuracy: 72.09821319580078, Source Test Accuracy: 40.0, Target Test Accuracy: 10.0\n",
            "Epoch 19, Train Accuracy: 63.0, Domain Accuracy: 72.55638885498047, Source Test Accuracy: 28.0, Target Test Accuracy: 10.0\n",
            "Epoch 20, Train Accuracy: 65.0, Domain Accuracy: 72.58928680419922, Source Test Accuracy: 52.0, Target Test Accuracy: 4.0\n",
            "Epoch 21, Train Accuracy: 76.0, Domain Accuracy: 73.12925720214844, Source Test Accuracy: 66.0, Target Test Accuracy: 14.0\n",
            "Epoch 22, Train Accuracy: 80.5, Domain Accuracy: 73.11283111572266, Source Test Accuracy: 48.0, Target Test Accuracy: 14.0\n",
            "Epoch 23, Train Accuracy: 73.5, Domain Accuracy: 72.12732696533203, Source Test Accuracy: 40.0, Target Test Accuracy: 4.0\n",
            "Epoch 24, Train Accuracy: 79.0, Domain Accuracy: 71.14955139160156, Source Test Accuracy: 56.0, Target Test Accuracy: 6.0\n",
            "Epoch 25, Train Accuracy: 83.5, Domain Accuracy: 70.35714721679688, Source Test Accuracy: 72.0, Target Test Accuracy: 18.0\n",
            "Epoch 26, Train Accuracy: 90.5, Domain Accuracy: 69.72870635986328, Source Test Accuracy: 80.0, Target Test Accuracy: 12.0\n",
            "Epoch 27, Train Accuracy: 96.0, Domain Accuracy: 68.88227844238281, Source Test Accuracy: 82.0, Target Test Accuracy: 10.0\n",
            "Epoch 28, Train Accuracy: 98.5, Domain Accuracy: 68.2238540649414, Source Test Accuracy: 84.0, Target Test Accuracy: 18.0\n",
            "Epoch 29, Train Accuracy: 97.5, Domain Accuracy: 67.61083984375, Source Test Accuracy: 88.0, Target Test Accuracy: 10.0\n",
            "Epoch 30, Train Accuracy: 99.0, Domain Accuracy: 66.97916412353516, Source Test Accuracy: 82.0, Target Test Accuracy: 8.0\n",
            "Epoch 31, Train Accuracy: 99.0, Domain Accuracy: 66.44585418701172, Source Test Accuracy: 82.0, Target Test Accuracy: 10.0\n",
            "Epoch 32, Train Accuracy: 99.5, Domain Accuracy: 65.90401458740234, Source Test Accuracy: 84.0, Target Test Accuracy: 16.0\n",
            "Epoch 33, Train Accuracy: 99.0, Domain Accuracy: 65.39501953125, Source Test Accuracy: 88.0, Target Test Accuracy: 16.0\n",
            "Epoch 34, Train Accuracy: 100.0, Domain Accuracy: 64.94223022460938, Source Test Accuracy: 86.0, Target Test Accuracy: 10.0\n",
            "Epoch 35, Train Accuracy: 100.0, Domain Accuracy: 64.41326904296875, Source Test Accuracy: 86.0, Target Test Accuracy: 10.0\n",
            "Epoch 36, Train Accuracy: 100.0, Domain Accuracy: 64.0625, Source Test Accuracy: 84.0, Target Test Accuracy: 12.0\n",
            "Epoch 37, Train Accuracy: 100.0, Domain Accuracy: 63.706565856933594, Source Test Accuracy: 84.0, Target Test Accuracy: 12.0\n",
            "Epoch 38, Train Accuracy: 100.0, Domain Accuracy: 63.392860412597656, Source Test Accuracy: 84.0, Target Test Accuracy: 16.0\n",
            "Epoch 39, Train Accuracy: 100.0, Domain Accuracy: 62.95787811279297, Source Test Accuracy: 86.0, Target Test Accuracy: 18.0\n",
            "Epoch 40, Train Accuracy: 100.0, Domain Accuracy: 62.64508819580078, Source Test Accuracy: 84.0, Target Test Accuracy: 16.0\n",
            "Epoch 41, Train Accuracy: 100.0, Domain Accuracy: 62.39111328125, Source Test Accuracy: 84.0, Target Test Accuracy: 16.0\n",
            "Epoch 42, Train Accuracy: 100.0, Domain Accuracy: 62.06420135498047, Source Test Accuracy: 86.0, Target Test Accuracy: 18.0\n",
            "Epoch 43, Train Accuracy: 100.0, Domain Accuracy: 61.8563117980957, Source Test Accuracy: 86.0, Target Test Accuracy: 18.0\n",
            "Epoch 44, Train Accuracy: 100.0, Domain Accuracy: 61.525978088378906, Source Test Accuracy: 86.0, Target Test Accuracy: 16.0\n",
            "Epoch 45, Train Accuracy: 100.0, Domain Accuracy: 61.34920883178711, Source Test Accuracy: 86.0, Target Test Accuracy: 14.0\n",
            "Epoch 46, Train Accuracy: 100.0, Domain Accuracy: 61.10248565673828, Source Test Accuracy: 86.0, Target Test Accuracy: 16.0\n",
            "Epoch 47, Train Accuracy: 100.0, Domain Accuracy: 60.77127456665039, Source Test Accuracy: 84.0, Target Test Accuracy: 16.0\n",
            "Epoch 48, Train Accuracy: 100.0, Domain Accuracy: 60.556175231933594, Source Test Accuracy: 84.0, Target Test Accuracy: 16.0\n",
            "Epoch 49, Train Accuracy: 100.0, Domain Accuracy: 60.349853515625, Source Test Accuracy: 82.0, Target Test Accuracy: 16.0\n",
            "Epoch 50, Train Accuracy: 100.0, Domain Accuracy: 60.14285659790039, Source Test Accuracy: 82.0, Target Test Accuracy: 18.0\n"
          ]
        },
        {
          "output_type": "display_data",
          "data": {
            "image/png": "[encoded data removed]",
            "text/plain": [
              "<Figure size 432x288 with 1 Axes>"
            ]
          },
          "metadata": {
            "needs_background": "light"
          }
        }
      ],
      "source": [
        "EPOCHS = 50\n",
        "alpha = 10\n",
        "\n",
        "train_acc = []\n",
        "test_acc = []\n",
        "svhn_test_acc = []\n",
        "for epoch in range(EPOCHS):\n",
        "    reset_metrics()\n",
        "\n",
        "    for domain_data, label_data in zip(domain_train_ds, train_ds):\n",
        "    \n",
        "        try:\n",
        "            train_step(label_data[0], label_data[1], domain_data[0], domain_data[1], alpha=alpha)\n",
        "\n",
        "        except ValueError: \n",
        "            pass\n",
        "    \n",
        "    for test_data, svhn_test_data in zip(test_ds, svhn_test_ds):\n",
        "        test_step(test_data[0], test_data[1], svhn_test_data[0], svhn_test_data[1])\n",
        "  \n",
        "    template = 'Epoch {}, Train Accuracy: {}, Domain Accuracy: {}, Source Test Accuracy: {}, Target Test Accuracy: {}'\n",
        "    print (template.format(epoch+1,\n",
        "                           train_accuracy.result()*100,\n",
        "                           conf_train_accuracy.result()*100,\n",
        "                           test_accuracy.result()*100,\n",
        "                           svhn_test_accuracy.result()*100,))\n",
        "    \n",
        "    train_acc.append(train_accuracy.result()*100)\n",
        "    test_acc.append(test_accuracy.result()*100)\n",
        "    svhn_test_acc.append(svhn_test_accuracy.result()*100)\n",
        "    \n",
        "plt.plot(list(range(EPOCHS)), train_acc, label = \"Train MNIST\")\n",
        "plt.plot(list(range(EPOCHS)), test_acc, label = \"Test MNIST\")\n",
        "plt.plot(list(range(EPOCHS)), svhn_test_acc, label = \"Test SVHN\")\n",
        "plt.legend(loc='upper left', bbox_to_anchor=(1.0, 1.0),fontsize = 10,frameon=False)\n",
        "plt.show()    "
      ]
    },
    {
      "cell_type": "code",
      "execution_count": 29,
      "metadata": {
        "ExecuteTime": {
          "end_time": "2022-01-18T03:21:33.075872Z",
          "start_time": "2022-01-18T03:21:32.894999Z"
        },
        "colab": {
          "base_uri": "https://localhost:8080/",
          "height": 586
        },
        "id": "ACOkdubmR4Fi",
        "outputId": "8527d04d-d08d-4e9f-e903-cb777c13761b"
      },
      "outputs": [
        {
          "output_type": "stream",
          "name": "stdout",
          "text": [
            "예측 :  0\n",
            "정답 :  0\n"
          ]
        },
        {
          "output_type": "display_data",
          "data": {
            "image/png": "[encoded data removed]",
            "text/plain": [
              "<Figure size 432x288 with 1 Axes>"
            ]
          },
          "metadata": {
            "needs_background": "light"
          }
        },
        {
          "output_type": "stream",
          "name": "stdout",
          "text": [
            "예측 :  2\n",
            "정답 :  2\n"
          ]
        },
        {
          "output_type": "display_data",
          "data": {
            "image/png": "[encoded data removed]",
            "text/plain": [
              "<Figure size 432x288 with 1 Axes>"
            ]
          },
          "metadata": {
            "needs_background": "light"
          }
        }
      ],
      "source": [
        "for images, labels in test_ds:\n",
        "    features = feature_generator(images)\n",
        "    predictions = label_predictor(features)\n",
        "    print(\"예측 : \", np.argmax(predictions[3]))\n",
        "    print(\"정답 : \", labels[3].numpy())\n",
        "    plt.imshow(images[3])\n",
        "    plt.show()"
      ]
    },
    {
      "cell_type": "code",
      "execution_count": 30,
      "metadata": {
        "ExecuteTime": {
          "end_time": "2022-01-18T03:21:33.257662Z",
          "start_time": "2022-01-18T03:21:33.077845Z"
        },
        "colab": {
          "base_uri": "https://localhost:8080/",
          "height": 586
        },
        "id": "sSrbJKc9R4Fi",
        "outputId": "76eee2f8-1a99-45aa-e18a-56500d0ee936"
      },
      "outputs": [
        {
          "output_type": "stream",
          "name": "stdout",
          "text": [
            "예측 :  1\n",
            "정답 :  0\n"
          ]
        },
        {
          "output_type": "display_data",
          "data": {
            "image/png": "[encoded data removed]",
            "text/plain": [
              "<Figure size 432x288 with 1 Axes>"
            ]
          },
          "metadata": {
            "needs_background": "light"
          }
        },
        {
          "output_type": "stream",
          "name": "stdout",
          "text": [
            "예측 :  0\n",
            "정답 :  1\n"
          ]
        },
        {
          "output_type": "display_data",
          "data": {
            "image/png": "[encoded data removed]",
            "text/plain": [
              "<Figure size 432x288 with 1 Axes>"
            ]
          },
          "metadata": {
            "needs_background": "light"
          }
        }
      ],
      "source": [
        "for images, labels in svhn_test_ds:\n",
        "    features = feature_generator(images)\n",
        "    predictions = label_predictor(features)\n",
        "    print(\"예측 : \", np.argmax(predictions[3]))\n",
        "    print(\"정답 : \", labels[3].numpy())\n",
        "    plt.imshow(images[3])\n",
        "    plt.show()"
      ]
    },
    {
      "cell_type": "code",
      "execution_count": 30,
      "metadata": {
        "id": "vBsRLi2NR4Fj"
      },
      "outputs": [],
      "source": [
        ""
      ]
    }
  ],
  "metadata": {
    "accelerator": "GPU",
    "colab": {
      "collapsed_sections": [],
      "name": "02_Domain_adaptation_v3.ipynb",
      "provenance": []
    },
    "kernelspec": {
      "display_name": "Python 3 (ipykernel)",
      "language": "python",
      "name": "python3"
    },
    "language_info": {
      "codemirror_mode": {
        "name": "ipython",
        "version": 3
      },
      "file_extension": ".py",
      "mimetype": "text/x-python",
      "name": "python",
      "nbconvert_exporter": "python",
      "pygments_lexer": "ipython3",
      "version": "3.8.11"
    }
  },
  "nbformat": 4,
  "nbformat_minor": 0
}